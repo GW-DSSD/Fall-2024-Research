{
 "cells": [
  {
   "cell_type": "code",
   "execution_count": 3,
   "metadata": {
    "id": "h4nNp_tFHZf-"
   },
   "outputs": [],
   "source": [
    "import pandas as pd\n",
    "import numpy as np\n",
    "import matplotlib.pyplot as plt"
   ]
  },
  {
   "cell_type": "code",
   "execution_count": 4,
   "metadata": {
    "colab": {
     "base_uri": "https://localhost:8080/",
     "height": 355
    },
    "id": "U2Rh8JMTHgDN",
    "outputId": "0d87797c-443a-459c-fb59-0f2b68aba694",
    "scrolled": true
   },
   "outputs": [
    {
     "data": {
      "text/html": [
       "<div>\n",
       "<style scoped>\n",
       "    .dataframe tbody tr th:only-of-type {\n",
       "        vertical-align: middle;\n",
       "    }\n",
       "\n",
       "    .dataframe tbody tr th {\n",
       "        vertical-align: top;\n",
       "    }\n",
       "\n",
       "    .dataframe thead th {\n",
       "        text-align: right;\n",
       "    }\n",
       "</style>\n",
       "<table border=\"1\" class=\"dataframe\">\n",
       "  <thead>\n",
       "    <tr style=\"text-align: right;\">\n",
       "      <th></th>\n",
       "      <th>Unnamed: 0</th>\n",
       "      <th>X</th>\n",
       "      <th>Y</th>\n",
       "      <th>PID</th>\n",
       "      <th>SSL</th>\n",
       "      <th>PMPROPERTYID</th>\n",
       "      <th>PROPERTYNAME</th>\n",
       "      <th>PMPARENTPROPERTYID</th>\n",
       "      <th>PARENTPROPERTYNAME</th>\n",
       "      <th>REPORTINGYEAR</th>\n",
       "      <th>...</th>\n",
       "      <th>ELECTRICITYUSE_KBTU_MAY</th>\n",
       "      <th>ELECTRICITYUSE_KBTU_JUNE</th>\n",
       "      <th>ELECTRICITYUSE_KBTU_JULY</th>\n",
       "      <th>ELECTRICITYUSE_KBTU_AUGUST</th>\n",
       "      <th>ELECTRICITYUSE_KBTU_SEPTEMBER</th>\n",
       "      <th>ELECTRICITYUSE_KBTU_OCTOBER</th>\n",
       "      <th>ELECTRICITYUSE_KBTU_NOVEMBER</th>\n",
       "      <th>ELECTRICITYUSE_KBTU_DECEMBER</th>\n",
       "      <th>LASTUPDATE</th>\n",
       "      <th>OBJECTID</th>\n",
       "    </tr>\n",
       "  </thead>\n",
       "  <tbody>\n",
       "    <tr>\n",
       "      <th>0</th>\n",
       "      <td>4356</td>\n",
       "      <td>-8.577269e+06</td>\n",
       "      <td>4.707256e+06</td>\n",
       "      <td>PM1030402</td>\n",
       "      <td>0042 0054</td>\n",
       "      <td>1030402.0</td>\n",
       "      <td>Amsterdam Hall</td>\n",
       "      <td>NaN</td>\n",
       "      <td>NaN</td>\n",
       "      <td>2012</td>\n",
       "      <td>...</td>\n",
       "      <td>0.0</td>\n",
       "      <td>0.0</td>\n",
       "      <td>0.0</td>\n",
       "      <td>0.0</td>\n",
       "      <td>0.0</td>\n",
       "      <td>0.0</td>\n",
       "      <td>0.0</td>\n",
       "      <td>0.0</td>\n",
       "      <td>2024/04/04 04:00:00+00</td>\n",
       "      <td>3573308</td>\n",
       "    </tr>\n",
       "    <tr>\n",
       "      <th>1</th>\n",
       "      <td>4357</td>\n",
       "      <td>-8.577269e+06</td>\n",
       "      <td>4.707256e+06</td>\n",
       "      <td>PM1030402</td>\n",
       "      <td>0042 0054</td>\n",
       "      <td>1030402.0</td>\n",
       "      <td>Amsterdam Hall</td>\n",
       "      <td>NaN</td>\n",
       "      <td>NaN</td>\n",
       "      <td>2013</td>\n",
       "      <td>...</td>\n",
       "      <td>0.0</td>\n",
       "      <td>0.0</td>\n",
       "      <td>0.0</td>\n",
       "      <td>0.0</td>\n",
       "      <td>0.0</td>\n",
       "      <td>0.0</td>\n",
       "      <td>0.0</td>\n",
       "      <td>0.0</td>\n",
       "      <td>2024/04/04 04:00:00+00</td>\n",
       "      <td>3573309</td>\n",
       "    </tr>\n",
       "    <tr>\n",
       "      <th>2</th>\n",
       "      <td>4358</td>\n",
       "      <td>-8.577272e+06</td>\n",
       "      <td>4.709601e+06</td>\n",
       "      <td>PM1030402</td>\n",
       "      <td>0042 0054</td>\n",
       "      <td>1030402.0</td>\n",
       "      <td>Amsterdam Hall</td>\n",
       "      <td>NaN</td>\n",
       "      <td>NaN</td>\n",
       "      <td>2014</td>\n",
       "      <td>...</td>\n",
       "      <td>0.0</td>\n",
       "      <td>0.0</td>\n",
       "      <td>0.0</td>\n",
       "      <td>0.0</td>\n",
       "      <td>0.0</td>\n",
       "      <td>0.0</td>\n",
       "      <td>0.0</td>\n",
       "      <td>0.0</td>\n",
       "      <td>2024/04/04 04:00:00+00</td>\n",
       "      <td>3573310</td>\n",
       "    </tr>\n",
       "    <tr>\n",
       "      <th>3</th>\n",
       "      <td>4359</td>\n",
       "      <td>-8.577269e+06</td>\n",
       "      <td>4.707262e+06</td>\n",
       "      <td>PM1030402</td>\n",
       "      <td>0042 0054</td>\n",
       "      <td>1030402.0</td>\n",
       "      <td>Amsterdam Hall</td>\n",
       "      <td>NaN</td>\n",
       "      <td>NaN</td>\n",
       "      <td>2015</td>\n",
       "      <td>...</td>\n",
       "      <td>0.0</td>\n",
       "      <td>0.0</td>\n",
       "      <td>0.0</td>\n",
       "      <td>0.0</td>\n",
       "      <td>0.0</td>\n",
       "      <td>0.0</td>\n",
       "      <td>0.0</td>\n",
       "      <td>0.0</td>\n",
       "      <td>2024/04/04 04:00:00+00</td>\n",
       "      <td>3573311</td>\n",
       "    </tr>\n",
       "    <tr>\n",
       "      <th>4</th>\n",
       "      <td>4360</td>\n",
       "      <td>-8.577269e+06</td>\n",
       "      <td>4.707262e+06</td>\n",
       "      <td>PM1030402</td>\n",
       "      <td>0042 0054</td>\n",
       "      <td>1030402.0</td>\n",
       "      <td>Amsterdam Hall</td>\n",
       "      <td>NaN</td>\n",
       "      <td>NaN</td>\n",
       "      <td>2016</td>\n",
       "      <td>...</td>\n",
       "      <td>0.0</td>\n",
       "      <td>0.0</td>\n",
       "      <td>0.0</td>\n",
       "      <td>0.0</td>\n",
       "      <td>0.0</td>\n",
       "      <td>0.0</td>\n",
       "      <td>0.0</td>\n",
       "      <td>0.0</td>\n",
       "      <td>2024/04/04 04:00:00+00</td>\n",
       "      <td>3573312</td>\n",
       "    </tr>\n",
       "  </tbody>\n",
       "</table>\n",
       "<p>5 rows × 73 columns</p>\n",
       "</div>"
      ],
      "text/plain": [
       "   Unnamed: 0             X             Y        PID        SSL  PMPROPERTYID  \\\n",
       "0        4356 -8.577269e+06  4.707256e+06  PM1030402  0042 0054     1030402.0   \n",
       "1        4357 -8.577269e+06  4.707256e+06  PM1030402  0042 0054     1030402.0   \n",
       "2        4358 -8.577272e+06  4.709601e+06  PM1030402  0042 0054     1030402.0   \n",
       "3        4359 -8.577269e+06  4.707262e+06  PM1030402  0042 0054     1030402.0   \n",
       "4        4360 -8.577269e+06  4.707262e+06  PM1030402  0042 0054     1030402.0   \n",
       "\n",
       "     PROPERTYNAME  PMPARENTPROPERTYID PARENTPROPERTYNAME  REPORTINGYEAR  ...  \\\n",
       "0  Amsterdam Hall                 NaN                NaN           2012  ...   \n",
       "1  Amsterdam Hall                 NaN                NaN           2013  ...   \n",
       "2  Amsterdam Hall                 NaN                NaN           2014  ...   \n",
       "3  Amsterdam Hall                 NaN                NaN           2015  ...   \n",
       "4  Amsterdam Hall                 NaN                NaN           2016  ...   \n",
       "\n",
       "  ELECTRICITYUSE_KBTU_MAY ELECTRICITYUSE_KBTU_JUNE ELECTRICITYUSE_KBTU_JULY  \\\n",
       "0                     0.0                      0.0                      0.0   \n",
       "1                     0.0                      0.0                      0.0   \n",
       "2                     0.0                      0.0                      0.0   \n",
       "3                     0.0                      0.0                      0.0   \n",
       "4                     0.0                      0.0                      0.0   \n",
       "\n",
       "   ELECTRICITYUSE_KBTU_AUGUST ELECTRICITYUSE_KBTU_SEPTEMBER  \\\n",
       "0                         0.0                           0.0   \n",
       "1                         0.0                           0.0   \n",
       "2                         0.0                           0.0   \n",
       "3                         0.0                           0.0   \n",
       "4                         0.0                           0.0   \n",
       "\n",
       "  ELECTRICITYUSE_KBTU_OCTOBER ELECTRICITYUSE_KBTU_NOVEMBER  \\\n",
       "0                         0.0                          0.0   \n",
       "1                         0.0                          0.0   \n",
       "2                         0.0                          0.0   \n",
       "3                         0.0                          0.0   \n",
       "4                         0.0                          0.0   \n",
       "\n",
       "  ELECTRICITYUSE_KBTU_DECEMBER              LASTUPDATE OBJECTID  \n",
       "0                          0.0  2024/04/04 04:00:00+00  3573308  \n",
       "1                          0.0  2024/04/04 04:00:00+00  3573309  \n",
       "2                          0.0  2024/04/04 04:00:00+00  3573310  \n",
       "3                          0.0  2024/04/04 04:00:00+00  3573311  \n",
       "4                          0.0  2024/04/04 04:00:00+00  3573312  \n",
       "\n",
       "[5 rows x 73 columns]"
      ]
     },
     "execution_count": 4,
     "metadata": {},
     "output_type": "execute_result"
    }
   ],
   "source": [
    "df = pd.read_csv('University_Buildings.csv')\n",
    "df.head()"
   ]
  },
  {
   "cell_type": "markdown",
   "metadata": {
    "id": "_vqJK_d-AFka"
   },
   "source": [
    "ok your objective: We need a map of all buildings. Single Variable plots of Energy, Water, and Emissions to compare university/buildings. Multivariable plots of Energy, Water, and Emissions by university/buildings. Display plots with a drop down menu by year or plot by most recently reported year. Time series line plots by building/university.  \n"
   ]
  },
  {
   "cell_type": "code",
   "execution_count": 5,
   "metadata": {
    "colab": {
     "base_uri": "https://localhost:8080/"
    },
    "id": "EbZjNKWqAMIo",
    "outputId": "ff6f796e-e132-4323-8470-959c3dae2f73"
   },
   "outputs": [
    {
     "name": "stdout",
     "output_type": "stream",
     "text": [
      "Requirement already satisfied: plotly==5.24.1 in /Users/fenyiwa/anaconda3/lib/python3.10/site-packages (5.24.1)\n",
      "Requirement already satisfied: packaging in /Users/fenyiwa/anaconda3/lib/python3.10/site-packages (from plotly==5.24.1) (22.0)\n",
      "Requirement already satisfied: tenacity>=6.2.0 in /Users/fenyiwa/anaconda3/lib/python3.10/site-packages (from plotly==5.24.1) (8.0.1)\n",
      "Note: you may need to restart the kernel to use updated packages.\n"
     ]
    }
   ],
   "source": [
    "pip install plotly==5.24.1"
   ]
  },
  {
   "cell_type": "code",
   "execution_count": 6,
   "metadata": {
    "id": "qSu0HT_kA63S"
   },
   "outputs": [],
   "source": [
    "import plotly.express as px"
   ]
  },
  {
   "cell_type": "code",
   "execution_count": 7,
   "metadata": {
    "colab": {
     "base_uri": "https://localhost:8080/",
     "height": 694
    },
    "id": "d23VfhJNBAOp",
    "outputId": "984e5541-fb5a-4665-dfc4-af81f52f034e"
   },
   "outputs": [
    {
     "data": {
      "text/html": [
       "<div>\n",
       "<style scoped>\n",
       "    .dataframe tbody tr th:only-of-type {\n",
       "        vertical-align: middle;\n",
       "    }\n",
       "\n",
       "    .dataframe tbody tr th {\n",
       "        vertical-align: top;\n",
       "    }\n",
       "\n",
       "    .dataframe thead th {\n",
       "        text-align: right;\n",
       "    }\n",
       "</style>\n",
       "<table border=\"1\" class=\"dataframe\">\n",
       "  <thead>\n",
       "    <tr style=\"text-align: right;\">\n",
       "      <th></th>\n",
       "      <th>Unnamed: 0</th>\n",
       "      <th>X</th>\n",
       "      <th>Y</th>\n",
       "      <th>PID</th>\n",
       "      <th>SSL</th>\n",
       "      <th>PMPROPERTYID</th>\n",
       "      <th>PROPERTYNAME</th>\n",
       "      <th>PMPARENTPROPERTYID</th>\n",
       "      <th>PARENTPROPERTYNAME</th>\n",
       "      <th>REPORTINGYEAR</th>\n",
       "      <th>...</th>\n",
       "      <th>ELECTRICITYUSE_KBTU_MAY</th>\n",
       "      <th>ELECTRICITYUSE_KBTU_JUNE</th>\n",
       "      <th>ELECTRICITYUSE_KBTU_JULY</th>\n",
       "      <th>ELECTRICITYUSE_KBTU_AUGUST</th>\n",
       "      <th>ELECTRICITYUSE_KBTU_SEPTEMBER</th>\n",
       "      <th>ELECTRICITYUSE_KBTU_OCTOBER</th>\n",
       "      <th>ELECTRICITYUSE_KBTU_NOVEMBER</th>\n",
       "      <th>ELECTRICITYUSE_KBTU_DECEMBER</th>\n",
       "      <th>LASTUPDATE</th>\n",
       "      <th>OBJECTID</th>\n",
       "    </tr>\n",
       "  </thead>\n",
       "  <tbody>\n",
       "    <tr>\n",
       "      <th>0</th>\n",
       "      <td>4356</td>\n",
       "      <td>-8.577269e+06</td>\n",
       "      <td>4.707256e+06</td>\n",
       "      <td>PM1030402</td>\n",
       "      <td>0042 0054</td>\n",
       "      <td>1030402.0</td>\n",
       "      <td>Amsterdam Hall</td>\n",
       "      <td>NaN</td>\n",
       "      <td>NaN</td>\n",
       "      <td>2012</td>\n",
       "      <td>...</td>\n",
       "      <td>0.0</td>\n",
       "      <td>0.0</td>\n",
       "      <td>0.0</td>\n",
       "      <td>0.0</td>\n",
       "      <td>0.0</td>\n",
       "      <td>0.0</td>\n",
       "      <td>0.0</td>\n",
       "      <td>0.0</td>\n",
       "      <td>2024/04/04 04:00:00+00</td>\n",
       "      <td>3573308</td>\n",
       "    </tr>\n",
       "    <tr>\n",
       "      <th>1</th>\n",
       "      <td>4357</td>\n",
       "      <td>-8.577269e+06</td>\n",
       "      <td>4.707256e+06</td>\n",
       "      <td>PM1030402</td>\n",
       "      <td>0042 0054</td>\n",
       "      <td>1030402.0</td>\n",
       "      <td>Amsterdam Hall</td>\n",
       "      <td>NaN</td>\n",
       "      <td>NaN</td>\n",
       "      <td>2013</td>\n",
       "      <td>...</td>\n",
       "      <td>0.0</td>\n",
       "      <td>0.0</td>\n",
       "      <td>0.0</td>\n",
       "      <td>0.0</td>\n",
       "      <td>0.0</td>\n",
       "      <td>0.0</td>\n",
       "      <td>0.0</td>\n",
       "      <td>0.0</td>\n",
       "      <td>2024/04/04 04:00:00+00</td>\n",
       "      <td>3573309</td>\n",
       "    </tr>\n",
       "    <tr>\n",
       "      <th>2</th>\n",
       "      <td>4358</td>\n",
       "      <td>-8.577272e+06</td>\n",
       "      <td>4.709601e+06</td>\n",
       "      <td>PM1030402</td>\n",
       "      <td>0042 0054</td>\n",
       "      <td>1030402.0</td>\n",
       "      <td>Amsterdam Hall</td>\n",
       "      <td>NaN</td>\n",
       "      <td>NaN</td>\n",
       "      <td>2014</td>\n",
       "      <td>...</td>\n",
       "      <td>0.0</td>\n",
       "      <td>0.0</td>\n",
       "      <td>0.0</td>\n",
       "      <td>0.0</td>\n",
       "      <td>0.0</td>\n",
       "      <td>0.0</td>\n",
       "      <td>0.0</td>\n",
       "      <td>0.0</td>\n",
       "      <td>2024/04/04 04:00:00+00</td>\n",
       "      <td>3573310</td>\n",
       "    </tr>\n",
       "    <tr>\n",
       "      <th>3</th>\n",
       "      <td>4359</td>\n",
       "      <td>-8.577269e+06</td>\n",
       "      <td>4.707262e+06</td>\n",
       "      <td>PM1030402</td>\n",
       "      <td>0042 0054</td>\n",
       "      <td>1030402.0</td>\n",
       "      <td>Amsterdam Hall</td>\n",
       "      <td>NaN</td>\n",
       "      <td>NaN</td>\n",
       "      <td>2015</td>\n",
       "      <td>...</td>\n",
       "      <td>0.0</td>\n",
       "      <td>0.0</td>\n",
       "      <td>0.0</td>\n",
       "      <td>0.0</td>\n",
       "      <td>0.0</td>\n",
       "      <td>0.0</td>\n",
       "      <td>0.0</td>\n",
       "      <td>0.0</td>\n",
       "      <td>2024/04/04 04:00:00+00</td>\n",
       "      <td>3573311</td>\n",
       "    </tr>\n",
       "    <tr>\n",
       "      <th>4</th>\n",
       "      <td>4360</td>\n",
       "      <td>-8.577269e+06</td>\n",
       "      <td>4.707262e+06</td>\n",
       "      <td>PM1030402</td>\n",
       "      <td>0042 0054</td>\n",
       "      <td>1030402.0</td>\n",
       "      <td>Amsterdam Hall</td>\n",
       "      <td>NaN</td>\n",
       "      <td>NaN</td>\n",
       "      <td>2016</td>\n",
       "      <td>...</td>\n",
       "      <td>0.0</td>\n",
       "      <td>0.0</td>\n",
       "      <td>0.0</td>\n",
       "      <td>0.0</td>\n",
       "      <td>0.0</td>\n",
       "      <td>0.0</td>\n",
       "      <td>0.0</td>\n",
       "      <td>0.0</td>\n",
       "      <td>2024/04/04 04:00:00+00</td>\n",
       "      <td>3573312</td>\n",
       "    </tr>\n",
       "    <tr>\n",
       "      <th>...</th>\n",
       "      <td>...</td>\n",
       "      <td>...</td>\n",
       "      <td>...</td>\n",
       "      <td>...</td>\n",
       "      <td>...</td>\n",
       "      <td>...</td>\n",
       "      <td>...</td>\n",
       "      <td>...</td>\n",
       "      <td>...</td>\n",
       "      <td>...</td>\n",
       "      <td>...</td>\n",
       "      <td>...</td>\n",
       "      <td>...</td>\n",
       "      <td>...</td>\n",
       "      <td>...</td>\n",
       "      <td>...</td>\n",
       "      <td>...</td>\n",
       "      <td>...</td>\n",
       "      <td>...</td>\n",
       "      <td>...</td>\n",
       "      <td>...</td>\n",
       "    </tr>\n",
       "    <tr>\n",
       "      <th>334</th>\n",
       "      <td>18611</td>\n",
       "      <td>-8.576642e+06</td>\n",
       "      <td>4.707087e+06</td>\n",
       "      <td>PM3958530</td>\n",
       "      <td>0103 0045</td>\n",
       "      <td>3958530.0</td>\n",
       "      <td>Law Clinic Townhouses</td>\n",
       "      <td>NaN</td>\n",
       "      <td>NaN</td>\n",
       "      <td>2023</td>\n",
       "      <td>...</td>\n",
       "      <td>97299.9</td>\n",
       "      <td>89821.0</td>\n",
       "      <td>87390.2</td>\n",
       "      <td>83388.8</td>\n",
       "      <td>89250.5</td>\n",
       "      <td>97849.8</td>\n",
       "      <td>114736.6</td>\n",
       "      <td>131717.6</td>\n",
       "      <td>2024/09/20 04:00:00+00</td>\n",
       "      <td>3587563</td>\n",
       "    </tr>\n",
       "    <tr>\n",
       "      <th>560</th>\n",
       "      <td>22896</td>\n",
       "      <td>-8.576025e+06</td>\n",
       "      <td>4.706766e+06</td>\n",
       "      <td>PM4373175</td>\n",
       "      <td>0171 0814</td>\n",
       "      <td>4373175.0</td>\n",
       "      <td>Corcoran School of the Arts and Design</td>\n",
       "      <td>NaN</td>\n",
       "      <td>NaN</td>\n",
       "      <td>2015</td>\n",
       "      <td>...</td>\n",
       "      <td>0.0</td>\n",
       "      <td>0.0</td>\n",
       "      <td>0.0</td>\n",
       "      <td>0.0</td>\n",
       "      <td>0.0</td>\n",
       "      <td>0.0</td>\n",
       "      <td>0.0</td>\n",
       "      <td>0.0</td>\n",
       "      <td>2024/03/20 04:00:00+00</td>\n",
       "      <td>3591848</td>\n",
       "    </tr>\n",
       "    <tr>\n",
       "      <th>561</th>\n",
       "      <td>22897</td>\n",
       "      <td>-8.576025e+06</td>\n",
       "      <td>4.706766e+06</td>\n",
       "      <td>PM4373175</td>\n",
       "      <td>0171 0814</td>\n",
       "      <td>4373175.0</td>\n",
       "      <td>Corcoran School of the Arts and Design</td>\n",
       "      <td>NaN</td>\n",
       "      <td>NaN</td>\n",
       "      <td>2016</td>\n",
       "      <td>...</td>\n",
       "      <td>0.0</td>\n",
       "      <td>0.0</td>\n",
       "      <td>0.0</td>\n",
       "      <td>0.0</td>\n",
       "      <td>0.0</td>\n",
       "      <td>0.0</td>\n",
       "      <td>0.0</td>\n",
       "      <td>0.0</td>\n",
       "      <td>2024/03/20 04:00:00+00</td>\n",
       "      <td>3591849</td>\n",
       "    </tr>\n",
       "    <tr>\n",
       "      <th>562</th>\n",
       "      <td>22898</td>\n",
       "      <td>-8.576025e+06</td>\n",
       "      <td>4.706766e+06</td>\n",
       "      <td>PM4373175</td>\n",
       "      <td>0171 0814</td>\n",
       "      <td>4373175.0</td>\n",
       "      <td>Corcoran School of the Arts and Design</td>\n",
       "      <td>NaN</td>\n",
       "      <td>NaN</td>\n",
       "      <td>2017</td>\n",
       "      <td>...</td>\n",
       "      <td>0.0</td>\n",
       "      <td>0.0</td>\n",
       "      <td>0.0</td>\n",
       "      <td>0.0</td>\n",
       "      <td>0.0</td>\n",
       "      <td>0.0</td>\n",
       "      <td>0.0</td>\n",
       "      <td>0.0</td>\n",
       "      <td>2024/03/20 04:00:00+00</td>\n",
       "      <td>3591850</td>\n",
       "    </tr>\n",
       "    <tr>\n",
       "      <th>563</th>\n",
       "      <td>22899</td>\n",
       "      <td>-8.577069e+06</td>\n",
       "      <td>4.707427e+06</td>\n",
       "      <td>PM4373184</td>\n",
       "      <td>0055 0029</td>\n",
       "      <td>4373184.0</td>\n",
       "      <td>Science and Engineering Hall</td>\n",
       "      <td>3616625.0</td>\n",
       "      <td>Ross Hall Group</td>\n",
       "      <td>2017</td>\n",
       "      <td>...</td>\n",
       "      <td>0.0</td>\n",
       "      <td>0.0</td>\n",
       "      <td>0.0</td>\n",
       "      <td>0.0</td>\n",
       "      <td>0.0</td>\n",
       "      <td>0.0</td>\n",
       "      <td>0.0</td>\n",
       "      <td>0.0</td>\n",
       "      <td>2024/03/20 04:00:00+00</td>\n",
       "      <td>3591851</td>\n",
       "    </tr>\n",
       "  </tbody>\n",
       "</table>\n",
       "<p>189 rows × 73 columns</p>\n",
       "</div>"
      ],
      "text/plain": [
       "     Unnamed: 0             X             Y        PID        SSL  \\\n",
       "0          4356 -8.577269e+06  4.707256e+06  PM1030402  0042 0054   \n",
       "1          4357 -8.577269e+06  4.707256e+06  PM1030402  0042 0054   \n",
       "2          4358 -8.577272e+06  4.709601e+06  PM1030402  0042 0054   \n",
       "3          4359 -8.577269e+06  4.707262e+06  PM1030402  0042 0054   \n",
       "4          4360 -8.577269e+06  4.707262e+06  PM1030402  0042 0054   \n",
       "..          ...           ...           ...        ...        ...   \n",
       "334       18611 -8.576642e+06  4.707087e+06  PM3958530  0103 0045   \n",
       "560       22896 -8.576025e+06  4.706766e+06  PM4373175  0171 0814   \n",
       "561       22897 -8.576025e+06  4.706766e+06  PM4373175  0171 0814   \n",
       "562       22898 -8.576025e+06  4.706766e+06  PM4373175  0171 0814   \n",
       "563       22899 -8.577069e+06  4.707427e+06  PM4373184  0055 0029   \n",
       "\n",
       "     PMPROPERTYID                            PROPERTYNAME  PMPARENTPROPERTYID  \\\n",
       "0       1030402.0                          Amsterdam Hall                 NaN   \n",
       "1       1030402.0                          Amsterdam Hall                 NaN   \n",
       "2       1030402.0                          Amsterdam Hall                 NaN   \n",
       "3       1030402.0                          Amsterdam Hall                 NaN   \n",
       "4       1030402.0                          Amsterdam Hall                 NaN   \n",
       "..            ...                                     ...                 ...   \n",
       "334     3958530.0                   Law Clinic Townhouses                 NaN   \n",
       "560     4373175.0  Corcoran School of the Arts and Design                 NaN   \n",
       "561     4373175.0  Corcoran School of the Arts and Design                 NaN   \n",
       "562     4373175.0  Corcoran School of the Arts and Design                 NaN   \n",
       "563     4373184.0            Science and Engineering Hall           3616625.0   \n",
       "\n",
       "    PARENTPROPERTYNAME  REPORTINGYEAR  ... ELECTRICITYUSE_KBTU_MAY  \\\n",
       "0                  NaN           2012  ...                     0.0   \n",
       "1                  NaN           2013  ...                     0.0   \n",
       "2                  NaN           2014  ...                     0.0   \n",
       "3                  NaN           2015  ...                     0.0   \n",
       "4                  NaN           2016  ...                     0.0   \n",
       "..                 ...            ...  ...                     ...   \n",
       "334                NaN           2023  ...                 97299.9   \n",
       "560                NaN           2015  ...                     0.0   \n",
       "561                NaN           2016  ...                     0.0   \n",
       "562                NaN           2017  ...                     0.0   \n",
       "563    Ross Hall Group           2017  ...                     0.0   \n",
       "\n",
       "    ELECTRICITYUSE_KBTU_JUNE ELECTRICITYUSE_KBTU_JULY  \\\n",
       "0                        0.0                      0.0   \n",
       "1                        0.0                      0.0   \n",
       "2                        0.0                      0.0   \n",
       "3                        0.0                      0.0   \n",
       "4                        0.0                      0.0   \n",
       "..                       ...                      ...   \n",
       "334                  89821.0                  87390.2   \n",
       "560                      0.0                      0.0   \n",
       "561                      0.0                      0.0   \n",
       "562                      0.0                      0.0   \n",
       "563                      0.0                      0.0   \n",
       "\n",
       "     ELECTRICITYUSE_KBTU_AUGUST ELECTRICITYUSE_KBTU_SEPTEMBER  \\\n",
       "0                           0.0                           0.0   \n",
       "1                           0.0                           0.0   \n",
       "2                           0.0                           0.0   \n",
       "3                           0.0                           0.0   \n",
       "4                           0.0                           0.0   \n",
       "..                          ...                           ...   \n",
       "334                     83388.8                       89250.5   \n",
       "560                         0.0                           0.0   \n",
       "561                         0.0                           0.0   \n",
       "562                         0.0                           0.0   \n",
       "563                         0.0                           0.0   \n",
       "\n",
       "    ELECTRICITYUSE_KBTU_OCTOBER ELECTRICITYUSE_KBTU_NOVEMBER  \\\n",
       "0                           0.0                          0.0   \n",
       "1                           0.0                          0.0   \n",
       "2                           0.0                          0.0   \n",
       "3                           0.0                          0.0   \n",
       "4                           0.0                          0.0   \n",
       "..                          ...                          ...   \n",
       "334                     97849.8                     114736.6   \n",
       "560                         0.0                          0.0   \n",
       "561                         0.0                          0.0   \n",
       "562                         0.0                          0.0   \n",
       "563                         0.0                          0.0   \n",
       "\n",
       "    ELECTRICITYUSE_KBTU_DECEMBER              LASTUPDATE OBJECTID  \n",
       "0                            0.0  2024/04/04 04:00:00+00  3573308  \n",
       "1                            0.0  2024/04/04 04:00:00+00  3573309  \n",
       "2                            0.0  2024/04/04 04:00:00+00  3573310  \n",
       "3                            0.0  2024/04/04 04:00:00+00  3573311  \n",
       "4                            0.0  2024/04/04 04:00:00+00  3573312  \n",
       "..                           ...                     ...      ...  \n",
       "334                     131717.6  2024/09/20 04:00:00+00  3587563  \n",
       "560                          0.0  2024/03/20 04:00:00+00  3591848  \n",
       "561                          0.0  2024/03/20 04:00:00+00  3591849  \n",
       "562                          0.0  2024/03/20 04:00:00+00  3591850  \n",
       "563                          0.0  2024/03/20 04:00:00+00  3591851  \n",
       "\n",
       "[189 rows x 73 columns]"
      ]
     },
     "execution_count": 7,
     "metadata": {},
     "output_type": "execute_result"
    }
   ],
   "source": [
    "gwu_df = df[df['OWNEROFRECORD'] == 'George Washington University']\n",
    "gwu_df"
   ]
  },
  {
   "cell_type": "code",
   "execution_count": 8,
   "metadata": {
    "colab": {
     "base_uri": "https://localhost:8080/",
     "height": 542
    },
    "id": "ZHFlzon9FjHN",
    "outputId": "b421e1c3-f737-484b-ce86-67398b94e651"
   },
   "outputs": [
    {
     "data": {
      "application/vnd.plotly.v1+json": {
       "config": {
        "plotlyServerURL": "https://plot.ly"
       },
       "data": [
        {
         "hovertemplate": "<b>%{hovertext}</b><br><br>LATITUDE=%{lat}<br>LONGITUDE=%{lon}<extra></extra>",
         "hovertext": [
          "Amsterdam Hall",
          "Amsterdam Hall",
          "Amsterdam Hall",
          "Amsterdam Hall",
          "Amsterdam Hall",
          "Amsterdam Hall",
          "Somers Hall",
          "Somers Hall",
          "Somers Hall",
          "Somers Hall",
          "Somers Hall",
          "Townhouse Row",
          "Townhouse Row",
          "Townhouse Row",
          "Townhouse Row",
          "Townhouse Row",
          "Potomac House",
          "Potomac House",
          "Potomac House",
          "Potomac House",
          "Potomac House",
          "Trinity Washington University",
          "Trinity Washington University",
          "Trinity Washington University",
          "Trinity Washington University",
          "Trinity Washington University",
          "Trinity Washington University",
          "DOEE - Mount Vernon Campus",
          "DOEE - Mount Vernon Campus",
          "DOEE - Mount Vernon Campus",
          "BEPS1 - Mount Vernon Campus",
          "BEPS1 - Mount Vernon Campus",
          "BEPS1 - Mount Vernon Campus",
          "Lafayette Hall",
          "Lafayette Hall",
          "Lafayette Hall",
          "Lafayette Hall",
          "Lafayette Hall",
          "Lafayette Hall",
          "JBKO Hall",
          "Dakota",
          "Dakota",
          "Dakota",
          "Dakota",
          "Dakota",
          "International House",
          "International House",
          "Ivory Tower",
          "Shenkman Hall",
          "Shenkman Hall",
          "Shenkman Hall",
          "Shenkman Hall",
          "Fulbright Hall",
          "Fulbright Hall",
          "Fulbright Hall",
          "Fulbright Hall",
          "Munson Hall",
          "Munson Hall",
          "Munson Hall",
          "Munson Hall",
          "Munson Hall",
          "Munson Hall",
          "JBKO Hall",
          "JBKO Hall",
          "JBKO Hall",
          "JBKO Hall",
          "JBKO Hall",
          "Thurston & Mitchell Halls",
          "Thurston and Mitchell Halls",
          "Thurston and Mitchell Halls",
          "Thurston and Mitchell Halls",
          "Thurston and Mitchell Halls",
          "Thurston and Mitchell Halls",
          "Madison Hall",
          "Madison Hall",
          "Guthridge Hall",
          "Guthridge Hall",
          "Guthridge Hall",
          "Guthridge Hall",
          "Guthridge Hall",
          "Strong Hall",
          "Strong Hall",
          "Francis Scott Key Hall",
          "Francis Scott Key Hall",
          "Francis Scott Key Hall",
          "Francis Scott Key Hall",
          "Francis Scott Key Hall",
          "Hall on Virginia Avenue",
          "Hall on Virginia Avenue",
          "Aston",
          "Aston",
          "Aston",
          "Aston",
          "2109 F St",
          "2109 F St",
          "Gewirz Residence Building",
          "Gewirz Residence Building",
          "Gewirz Residence Building",
          "Gewirz Residence Building",
          "Gewirz Residence Building",
          "Gewirz Residence Building",
          "Merriweather Campus",
          "Merriweather Campus",
          "Merriweather Campus",
          "McDonough Hall",
          "McDonough Hall",
          "McDonough Hall",
          "McDonough Hall",
          "McDonough Hall",
          "Edward Bennett Williams Library",
          "Edward Bennett Williams Library",
          "Edward Bennett Williams Library",
          "Edward Bennett Williams Library",
          "Edward Bennett Williams Library",
          "Hotung International Building/Sport & Fitness Center",
          "Hotung International Building/Sport & Fitness Center",
          "Hotung International Building/Sport & Fitness Center",
          "Hotung International Building/Sport & Fitness Center",
          "Hotung International Building/Sport & Fitness Center",
          "Hotung International Building/Sport & Fitness Center",
          "Nebraska Hall",
          "Nebraska Hall",
          "Nebraska Hall",
          "Nebraska Hall",
          "Nebraska Hall",
          "2013 H Street NW",
          "2013 H Street NW",
          "Marvin Center",
          "Marvin Center",
          "Marvin Center",
          "Marvin Center",
          "Marvin Center",
          "Marvin Center",
          "Media and Public Affairs",
          "Media and Public Affairs",
          "Media and Public Affairs",
          "Media and Public Affairs",
          "Media and Public Affairs",
          "Smith Center",
          "Smith Center",
          "Smith Center",
          "Smith Center",
          "Smith Center",
          "Old Main",
          "Lisner & Bell Halls",
          "Lisner & Bell Halls",
          "Lisner & Bell Halls",
          "Lisner & Bell Halls",
          "Lisner Auditorium, Monroe Hall, and 714 21st St",
          "Lisner Auditorium, Monroe Hall, and 714 21st St",
          "Lisner Auditorium, Monroe Hall, and 714 21st St",
          "Lisner Auditorium, Monroe Hall, and 714 21st St",
          "Residence Hall at Square 80",
          "South Hall",
          "South Hall",
          "South Hall",
          "South Hall",
          "South Hall",
          "Funger, Duques, & Tompkins Halls",
          "Funger, Duques, and Tompkins Halls",
          "Funger, Duques, and Tompkins Halls",
          "Funger, Duques, and Tompkins Halls",
          "Funger, Duques, and Tompkins Halls",
          "Funger, Duques, and Tompkins Halls",
          "Academic Center",
          "Academic Center",
          "Academic Center",
          "Academic Center",
          "Academic Center",
          "Academic Center",
          "Ross Hall",
          "Ross Hall",
          "Ross Hall",
          "Ross Hall",
          "Ross Hall",
          "Ross Hall",
          "Pelham Hall",
          "West Hall",
          "West Hall",
          "West Hall",
          "West Hall",
          "West Hall",
          "Ames Hall",
          "Ames Hall",
          "Ames Hall",
          "Ames Hall",
          "Ames Hall",
          "Stuart Hall & 700 20th St",
          "Stuart Hall & 700 20th St",
          "Stuart Hall & 700 20th St",
          "Stuart Hall & 700 20th St",
          "Burns Law Library, Stockton Hall, and Lerner Hall",
          "Burns Law Library, Stockton Hall, and Lerner Hall",
          "Burns Law Library, Stockton Hall, and Lerner Hall",
          "Burns Law Library, Stockton Hall, and Lerner Hall",
          "Corcoran & Samson Halls",
          "Corcoran & Samson Halls",
          "Corcoran & Samson Halls",
          "Corcoran & Samson Halls",
          "Washington College of Law",
          "Washington College of Law",
          "Washington College of Law",
          "Washington College of Law",
          "Spring Valley Building",
          "Spring Valley Building",
          "Milken Institute School of Public Health",
          "Milken Institute School of Public Health",
          "Milken Institute School of Public Health",
          "American University Main Campus",
          "American University Main Campus",
          "American University Main Campus",
          "American University Main Campus",
          "American University Main Campus",
          "Reiss Science",
          "American University Main Campus",
          "American University Main Campus",
          "American University Main Campus",
          "American University Main Campus",
          "American University Main Campus",
          "American University Main Campus",
          "Tenley Campus",
          "Village A",
          "Village A",
          "Copley",
          "Copley",
          "Darnall Hall",
          "Harbin",
          "Harbin Hall",
          "Village C",
          "Village C",
          "Southwest Quadrangle",
          "Intercultural Center",
          "Leavey Center",
          "Car Barn",
          "Car Barn",
          "2125-2131 G St",
          "2125-2131 G St",
          "KH - Kerby Hall",
          "KH - Kerby Hall",
          "KH - Kerby Hall",
          "KH - Kerby Hall",
          "KH - Kerby Hall",
          "TC - Trinity Center",
          "TC - Trinity Center",
          "Alumnae and Main Hall",
          "Alumnae and Main Hall",
          "Alumnae and Main Hall",
          "Alumnae and Main Hall",
          "Alumni Square",
          "Alumni Square",
          "Alumni Square",
          "Med-Dent (Medical Center)",
          "Rafik Hariri",
          "CH - Cuvilly Hall",
          "CH - Cuvilly Hall",
          "CH - Cuvilly Hall",
          "CH - Cuvilly Hall",
          "CH - Cuvilly Hall",
          "Gallaudet University",
          "Gallaudet University",
          "Gallaudet University",
          "Gallaudet University",
          "Gallaudet University",
          "Gallaudet University",
          "Gallaudet University",
          "Gallaudet University",
          "Gallaudet University",
          "Gallaudet University",
          "Gallaudet University",
          "Gallaudet University",
          "Law School",
          "Law School",
          "Law School",
          "Law School",
          "Law School",
          "Law School",
          "Law School",
          "Law School",
          "Law School",
          "Law School",
          "Howard Tower Plaza",
          "Howard Tower Plaza",
          "Howard Tower Plaza",
          "Howard Tower Plaza",
          "Howard Tower Plaza",
          "Howard Tower Plaza",
          "Howard Tower Plaza",
          "Merridian Hill Hall",
          "Merridian Hill Hall",
          "Merridian Hill Hall",
          "Meridian Hill Hall",
          "HU Sub Station",
          "Gelman Library Group",
          "Georgetown Law",
          "Georgetown Law",
          "Ross Hall Group",
          "Ross Hall Group",
          "Ross Hall Group",
          "Ross Hall Group",
          "Ross Hall Group",
          "Lisner Hall Group",
          "Marvin Center Group",
          "Marvin Center Group",
          "Marvin Center Group",
          "Marvin Center Group",
          "Marvin Center Group",
          "Georgetown University",
          "Georgetown University",
          "Georgetown University",
          "Georgetown University",
          "Georgetown University",
          "Slowe Hall",
          "Slowe Hall",
          "Slowe Hall",
          "Slowe Hall",
          "Slowe Hall",
          "Carver Hall",
          "Carver Hall",
          "Carver Hall",
          "Carver Hall",
          "Carver Hall",
          "Henle Village",
          "LXR",
          "LXR",
          "LXR",
          "LXR",
          "LXR",
          "Georgetown University East Campus",
          "Georgetown University East Campus",
          "Georgetown University East Campus",
          "Georgetown University East Campus",
          "Georgetown University East Campus",
          "New North",
          "Law Clinic Townhouses",
          "Law Clinic Townhouses",
          "St Mary's",
          "The Catholic University of America",
          "The Catholic University of America",
          "The Catholic University of America",
          "The Catholic University of America",
          "The Catholic University of America",
          "The Catholic University of America",
          "The Catholic University of America",
          "The Catholic University of America",
          "The Catholic University of America",
          "The Catholic University of America",
          "Flather Hall, Aquinas Hall, and Kane Health Center",
          "Flather Hall, Aquinas Hall, and Kane Health Center",
          "Flather Hall, Aquinas Hall, and Kane Health Center",
          "Flather Hall, Aquinas Hall, and Kane Health Center",
          "Multiple Buildings #1",
          "Multiple Buildings #1",
          "Multiple Buildings #1",
          "Multiple Buildings #1",
          "Hartke Theater",
          "Hartke Theater",
          "Hartke Theater",
          "Hartke Theater",
          "Columbus School of Law",
          "Columbus School of Law",
          "Columbus School of Law",
          "Columbus School of Law",
          "Maloney Hall",
          "Maloney Hall",
          "Maloney Hall",
          "Maloney Hall",
          "Ryan",
          "Ryan",
          "Ryan",
          "Ryan",
          "McCort Ward",
          "McCort Ward",
          "McCort Ward",
          "McCort Ward",
          "Power Plant",
          "Power Plant",
          "Power Plant",
          "Power Plant",
          "Nursing Bio",
          "Nursing Bio",
          "Nursing Bio",
          "Nursing Bio",
          "Millenium",
          "Millenium",
          "Millenium",
          "Millenium",
          "Pryzbyla",
          "Pryzbyla",
          "Pryzbyla",
          "Pryzbyla",
          "Centennial Village",
          "Centennial Village",
          "Centennial Village",
          "Centennial Village",
          "Gowan Hall",
          "Gowan Hall",
          "Gowan Hall",
          "Gowan Hall",
          "Reagan",
          "Reagan",
          "Reagan",
          "Reagan",
          "Dufour",
          "Dufour",
          "Dufour",
          "Dufour",
          "Hannan Hall",
          "Hannan Hall",
          "Founders Library (2C )",
          "Founders Library (2C )",
          "Frazier Hall",
          "Frazier Hall",
          "Frazier Hall",
          "Human Ecology (Middle School)",
          "Human Ecology (Middle School)",
          "Human Ecology (Middle School)",
          "Human Ecology (Middle School)",
          "Ira Aldridge",
          "Ira Aldridge",
          "Ira Aldridge",
          "LK Downing Engineering",
          "LK Downing Engineering",
          "LK Downing Engineering",
          "Sub Station Buildings",
          "Sub Station Buildings",
          "Sub Station Buildings",
          "Academic Support A (2A)",
          "Academic Support A (2A)",
          "Academic Support A (2A)",
          "Academic Support B (2A)",
          "Academic Support B (2A)",
          "Academic Support B (2A)",
          "Administration Bldg (1B)",
          "Architecture and Planning (1A)",
          "Architecture and Planning (1A)",
          "Architecture and Planning (1A)",
          "Architecture and Planning (1A)",
          "Architecture and Planning (1A)",
          "Architecture and Planning (1A)",
          "Baldwin Hall",
          "Baldwin Hall",
          "Baldwin Hall",
          "Bethune Annex (3B)",
          "Bethune Annex (3B)",
          "Bethune Annex (3B)",
          "Bethune Annex (3B)",
          "Blackburn Center (2A)",
          "Blackburn Center (2A)",
          "Blackburn Center (2A)",
          "Blackburn Center (2A)",
          "Blackburn Center (2A)",
          "Blackburn Center (2A)",
          "Burr Gym (1A)",
          "Burr Gym (1A)",
          "Burr Gym (1A)",
          "Burr Gym (1A)",
          "Burr Gym (1A)",
          "Burr Gym (1A)",
          "Business School (1B)",
          "Business School (1B)",
          "Business School (1B)",
          "Business School (1B)",
          "Business School (1B)",
          "C B Powell West",
          "C B Powell West",
          "C B Powell Building",
          "C B Powell Building",
          "C B Powell Building",
          "C B Powell Building",
          "Carnegie",
          "Carnegie",
          "Chemical Eng. (1B)",
          "Chemical Eng. (1B)",
          "Chemical Eng. (1B)",
          "Chemistry (2C)",
          "Chemistry (2C)",
          "Chemistry (2C)",
          "Chemistry Building (2C)",
          "Chemistry Building (2C)",
          "Chemistry Building (2C)",
          "Cook Hall",
          "Cook Hall",
          "Cook Hall",
          "Cook Hall",
          "Cook Hall",
          "Cook Hall",
          "Crandall Hall",
          "Crandall Hall",
          "Crandall Hall",
          "Dental School",
          "Dental School",
          "Dental School",
          "Dental School",
          "Dental School",
          "Dental School",
          "Douglas Hall (1B)",
          "Douglas Hall (1B)",
          "Douglas Hall (1B)",
          "Douglas Hall (1B)",
          "Douglas Hall (1B)",
          "Douglas Hall (1B)",
          "E E Just Hall",
          "E E Just Hall",
          "E E Just Hall",
          "E E Just Hall",
          "E E Just Hall",
          "E E Just Hall",
          "Fine Arts",
          "Fine Arts",
          "Fine Arts",
          "Fine Arts",
          "Fine Arts",
          "Fine Arts",
          "Hannan Hall",
          "Hannan Hall",
          "Undergraduate Library",
          "Undergraduate Library",
          "LK Downing Engineering",
          "LK Downing Engineering",
          "LK Downing Engineering",
          "Locke Hall",
          "Locke Hall",
          "Locke Hall",
          "Locke Hall",
          "Locke Hall",
          "Locke Hall",
          "Louis Stokes Library",
          "Louis Stokes Library",
          "Medical School",
          "Medical School",
          "Medical School - Numa Adams Building",
          "Medical School - Numa Adams Building",
          "Medical School - Numa Adams Building",
          "Medical School - Numa Adams Building",
          "Pharmacy",
          "Pharmacy",
          "Pharmacy",
          "Rankin Chapel",
          "Rankin Chapel",
          "Rankin Chapel",
          "Seeley Mudd",
          "Seeley Mudd",
          "Medical School - Seeley G. Mudd",
          "Medical School - Seeley G. Mudd",
          "Medical School - Seeley G. Mudd",
          "Medical School - Seeley G. Mudd",
          "Social Work",
          "Social Work",
          "Truth Hall",
          "Truth Hall",
          "Truth Hall",
          "Warehouse #2",
          "Warehouse #2",
          "Warehouse #2",
          "Wheatley Hall",
          "Wheatley Hall",
          "Wheatley Hall",
          "Wheatley Hall",
          "Wheatley Hall",
          "Wheatley Hall",
          "Corcoran School of the Arts and Design",
          "Corcoran School of the Arts and Design",
          "Corcoran School of the Arts and Design",
          "Science and Engineering Hall",
          "Howard University College Hall North",
          "Howard University College Hall North",
          "Howard University College Hall North",
          "Howard University College Hall South",
          "Howard University College Hall South",
          "Howard University College Hall South",
          "Howard University College Hall South",
          "School of Divinty",
          "School of Divinty",
          "School of Divinty",
          "School of Divinty",
          "Medical Arts Building",
          "Medical Arts Building",
          "Medical Arts Building",
          "Medical Arts Building",
          "Howard Manor",
          "Howard Manor",
          "Howard Manor",
          "Howard Manor",
          "Howard University College Hall North",
          "School of Nursing & Allied Health",
          "School of Nursing & Allied Health",
          "School of Nursing & Allied Health",
          "School of Nursing & Allied Health",
          "Laser Chemistry Building",
          "Laser Chemistry Building",
          "Miner Building",
          "Miner Building",
          "Miner Building",
          "Miner Building",
          "HUH Abandoned Building",
          "WCL Tenley",
          "WCL Tenley",
          "WCL Tenley",
          "WCL Tenley",
          "WCL Tenley",
          "WCL Tenley",
          "WCL Tenley",
          "Howard University Interdisciplinary Research Building",
          "Howard University Interdisciplinary Research Building",
          "UDC",
          "UDC",
          "UDC",
          "UDC",
          "4600 Livingston (PR Harris)",
          "4600 Livingston (PR Harris)",
          "4600 Livingston (PR Harris)",
          "PAC - Payden Academic Center",
          "Howard University Main Campus",
          "Howard University Main Campus",
          "Howard University Main Campus",
          "Howard University Main Campus",
          "Howard University Main Campus",
          "Howard University Main Campus"
         ],
         "lat": [
          38.8992826278,
          38.8992826278,
          38.915674,
          38.8993224015,
          38.8993224015,
          38.8993224015,
          38.9178792874,
          38.9178792874,
          38.9189160647,
          38.9189160647,
          38.9189160647,
          38.8978566588,
          38.8978566588,
          38.8978501709,
          38.8978501709,
          38.8978501709,
          38.8976926503,
          38.8976926503,
          38.8975861216,
          38.8975861216,
          38.8975861216,
          38.92696082,
          38.92696082,
          38.92696082,
          38.92696082,
          38.92696082,
          38.92696082,
          38.91890861,
          38.91827537,
          38.91827537,
          38.91736936,
          38.91827537,
          38.91720341,
          38.89989467,
          38.9001396467,
          38.9001396466,
          38.8996971,
          38.8996971,
          38.899895,
          38.90049984,
          38.8970567272,
          38.8970567272,
          38.8970982747,
          38.8970982747,
          38.8970982747,
          38.89689782,
          38.89689782,
          38.8979319691,
          38.920224,
          38.8979461457,
          38.8979461457,
          38.8979461457,
          38.89981114,
          38.89981114,
          38.89981114,
          38.899811,
          38.90049984,
          38.9003856769,
          38.9003856769,
          38.9005072894,
          38.9005072894,
          38.9005072894,
          38.9003856769,
          38.9003856769,
          38.9005072894,
          38.9005072894,
          38.9005072894,
          38.8969753392,
          38.8969753392,
          38.8965700656,
          38.8965802868,
          38.8965802868,
          38.8965802868,
          38.89936543,
          38.89936543,
          38.8976711494,
          38.8976711494,
          38.8976451515,
          38.8976451515,
          38.8976451515,
          38.89812395,
          38.89812193,
          38.8976504597,
          38.8976504597,
          38.8976437083,
          38.8976437083,
          38.8976437083,
          38.9002817834,
          38.9002817834,
          38.9043597726,
          38.9044571862,
          38.9044571862,
          38.9044571862,
          38.89763226,
          38.89763226,
          38.8968874024,
          38.8968874024,
          38.8968874024,
          38.8968952485,
          38.8968952485,
          38.8968952485,
          38.91736936,
          38.91827537,
          38.91720341,
          38.897828453,
          38.897828453,
          38.897828453,
          38.8978404037,
          38.8978404037,
          38.8986307717,
          38.8986307716,
          38.8987385779,
          38.8987385779,
          38.8987385779,
          38.8968874682,
          38.8968874682,
          38.8968874682,
          38.8969068786,
          38.8969068786,
          38.8969068786,
          38.9369038057,
          38.9369038058,
          38.9390892139,
          38.9390892139,
          38.9390892139,
          38.89990162,
          38.89990162,
          38.89989467,
          38.9001396467,
          38.9001396466,
          38.8996971,
          38.8996971,
          38.899895,
          38.8999147005,
          38.8999147005,
          38.8998173157,
          38.8998173157,
          38.8998173157,
          38.8978568635,
          38.8978568635,
          38.8978490336,
          38.8978490336,
          38.8978490336,
          38.8971202944,
          38.898404,
          38.898404,
          38.898404,
          38.898509,
          38.8987823134,
          38.8988855627,
          38.8988855627,
          38.8988855627,
          38.8976708714,
          38.8976708714,
          38.8976708713,
          38.8975383073,
          38.8975383073,
          38.8975383073,
          38.8989608667,
          38.8989608667,
          38.8989608667,
          38.8989956245,
          38.8989956245,
          38.8989956245,
          38.9001391894,
          38.9001391894,
          38.9001391894,
          38.8999973214,
          38.8999973214,
          38.8999973214,
          38.9001318249,
          38.9001318249,
          38.915103,
          38.9004095259,
          38.9004095259,
          38.9004095259,
          38.9178792874,
          38.9178792874,
          38.9178792874,
          38.9189160647,
          38.9189160647,
          38.9189160647,
          38.9178792874,
          38.9178792874,
          38.9189160647,
          38.9189160647,
          38.9189160647,
          38.898404,
          38.898404,
          38.898404,
          38.898509,
          38.898404,
          38.898404,
          38.898404,
          38.898509,
          38.898404,
          38.898404,
          38.898404,
          38.898509,
          38.945138047,
          38.945138047,
          38.945138047,
          38.9450506423,
          38.9450506423,
          38.9450506423,
          38.9021965251,
          38.9021965251,
          38.9021965251,
          38.9369038057,
          38.9369038058,
          38.9390892139,
          38.9390892139,
          38.9390892139,
          38.9063047428,
          38.94504318,
          38.94505091,
          38.94505091,
          38.94505091,
          38.94505091,
          38.94505091,
          38.9455353372,
          38.9089904251,
          38.9089904251,
          38.9089904251,
          38.9089904251,
          38.9089904251,
          38.9089904251,
          38.9089904251,
          38.9089904251,
          38.9089904251,
          38.9089904251,
          38.9089904251,
          38.9089904251,
          38.90522642,
          38.90522642,
          38.8985674,
          38.8985768856,
          38.9270497546,
          38.9270497546,
          38.926968283,
          38.926968283,
          38.926968283,
          38.928323607,
          38.928323607,
          38.9272177703,
          38.9272177703,
          38.928323607,
          38.928323607,
          38.9089904251,
          38.9089904251,
          38.9089904251,
          38.9063047428,
          38.9089904251,
          38.9272177703,
          38.9272177703,
          38.928323607,
          38.928323607,
          38.928323607,
          38.9081451065,
          38.9075508683,
          38.9075508683,
          38.9075732201,
          38.9075732201,
          38.9075732201,
          38.90756576,
          38.90756576,
          38.9076011,
          38.905753,
          38.90629764,
          38.91074283,
          38.9436377993,
          38.943134253,
          38.943134253,
          38.943134253,
          38.94312679,
          38.94278447,
          38.94278447,
          38.94278447,
          38.94278447,
          38.94278447,
          38.9203180657,
          38.9203180657,
          38.9203180657,
          38.9204185294,
          38.9204185294,
          38.9204185294,
          38.92041107,
          38.9236135993,
          38.9236135993,
          38.9236135993,
          38.9236258294,
          38.9240575444,
          38.899214349,
          38.897828453,
          38.8978404037,
          38.9001318249,
          38.915103,
          38.9004095259,
          38.9004095259,
          38.9004095259,
          38.898509,
          38.9001396467,
          38.9001396466,
          38.8996971,
          38.8996971,
          38.899895,
          38.9069034934,
          38.9069034934,
          38.90701004,
          38.9070174933,
          38.9070174933,
          38.91680067,
          38.9167970905,
          38.9167970905,
          38.9168081252,
          38.9168081252,
          38.9179374,
          38.9179134723,
          38.9179134723,
          38.9179448576,
          38.9179448576,
          38.9089904251,
          38.9089904251,
          38.9063047428,
          38.9065480783,
          38.9065480783,
          38.9065480783,
          38.90654063,
          38.9063108,
          38.9063108,
          38.9063108,
          38.9063108,
          38.9089904251,
          38.89810411,
          38.89810411,
          38.9089904251,
          38.9330938624,
          38.9330938625,
          38.9329769085,
          38.932449,
          38.9394529,
          38.9394529,
          38.93587547,
          38.93591553,
          38.93587547,
          38.93347893,
          38.9330938624,
          38.9330938625,
          38.9329769085,
          38.932449,
          38.9330938624,
          38.9330938625,
          38.9329769085,
          38.932449,
          38.9330938624,
          38.9330938625,
          38.9329769085,
          38.932449,
          38.9330938624,
          38.9330938625,
          38.9329769085,
          38.932449,
          38.9330938624,
          38.9330938625,
          38.9329769085,
          38.932449,
          38.9330938624,
          38.9330938625,
          38.9329769085,
          38.932449,
          38.9330938624,
          38.9330938625,
          38.9329769085,
          38.932449,
          38.9330938624,
          38.9330938625,
          38.9329769085,
          38.932449,
          38.9330938624,
          38.9330938625,
          38.9329769085,
          38.932449,
          38.9330938624,
          38.9330938625,
          38.9329769085,
          38.932449,
          38.9330938624,
          38.9330938625,
          38.9329769085,
          38.932449,
          38.9330938624,
          38.9330938625,
          38.9329769085,
          38.932449,
          38.9330938624,
          38.9330938625,
          38.9329769085,
          38.932449,
          38.9330938624,
          38.9330938625,
          38.9329769085,
          38.932449,
          38.9330938624,
          38.9330938625,
          38.9329769085,
          38.932449,
          38.9329769085,
          38.932449,
          38.9240575444,
          38.9240575444,
          38.9219904789,
          38.9219904789,
          38.9219904789,
          38.9240575444,
          38.9240575444,
          38.9240575444,
          38.9264589253,
          38.9240575444,
          38.9240575444,
          38.9240575444,
          38.92156395,
          38.9217576414,
          38.9217576414,
          38.9229282726,
          38.9229282726,
          38.9231374918,
          38.9240575444,
          38.9240575444,
          38.9240575444,
          38.9240575444,
          38.9240575444,
          38.9240575444,
          38.9229282726,
          38.92156395,
          38.9217576414,
          38.9217576414,
          38.9221038826,
          38.9221038826,
          38.9221038826,
          38.9219904789,
          38.9219904789,
          38.9219904789,
          38.9207892706,
          38.9208891082,
          38.9208891082,
          38.9223884512,
          38.9240575444,
          38.9240575444,
          38.9240575444,
          38.9264589253,
          38.9264589253,
          38.9264589253,
          38.9240575444,
          38.9240575444,
          38.9240575444,
          38.9264589253,
          38.9264589253,
          38.9264589253,
          38.9244595337,
          38.9244595337,
          38.9243760587,
          38.9243760587,
          38.9243760587,
          38.92067438,
          38.9201512366,
          38.9201512366,
          38.9212511623,
          38.9212511623,
          38.9212511623,
          38.9240575444,
          38.9240575444,
          38.92156395,
          38.9217576414,
          38.9217576414,
          38.9240575444,
          38.9240575444,
          38.9240575444,
          38.9264589253,
          38.9264589253,
          38.9264589253,
          38.92540118,
          38.9253833089,
          38.9253833089,
          38.9254086387,
          38.9254086387,
          38.9254086387,
          38.9219904789,
          38.9219904789,
          38.9219904789,
          38.9179488843,
          38.9179488843,
          38.9179488843,
          38.9188600662,
          38.9188600662,
          38.9188600662,
          38.9240575444,
          38.9240575444,
          38.9240575444,
          38.9264589253,
          38.9264589253,
          38.9264589253,
          38.9240575444,
          38.9240575444,
          38.9240575444,
          38.9264589253,
          38.9264589253,
          38.9264589253,
          38.9240575444,
          38.9240575444,
          38.9240575444,
          38.9264589253,
          38.9264589253,
          38.9264589253,
          38.9330938624,
          38.9330938625,
          38.9240575444,
          38.9240575444,
          38.9221038826,
          38.9221038826,
          38.9221038826,
          38.9240575444,
          38.9240575444,
          38.9240575444,
          38.9264589253,
          38.9264589253,
          38.9264589253,
          38.92067438,
          38.9201512366,
          38.9179488843,
          38.9179488843,
          38.9179488843,
          38.9188600662,
          38.9188600662,
          38.9188600662,
          38.9240575444,
          38.9240575444,
          38.9240575444,
          38.92156395,
          38.9217576414,
          38.9217576414,
          38.9179488843,
          38.9179488843,
          38.9179488843,
          38.9188600662,
          38.9188600662,
          38.9188600662,
          38.9229282726,
          38.9229282726,
          38.9219904789,
          38.9219904789,
          38.9219904789,
          38.9240575444,
          38.9240575444,
          38.9240575444,
          38.9219904789,
          38.9219904789,
          38.9219904789,
          38.9223884512,
          38.9223884512,
          38.9223884512,
          38.8958544638,
          38.8958544638,
          38.8958544638,
          38.9004753402,
          38.9256970148,
          38.9256970148,
          38.9256970148,
          38.9256094784,
          38.9256970148,
          38.9197645335,
          38.9256970148,
          38.9393915264,
          38.9395397908,
          38.9395397908,
          38.9395397908,
          38.918806462,
          38.9188417734,
          38.9188417734,
          38.9188417734,
          38.9253833089,
          38.9254086387,
          38.9256970148,
          38.9254086387,
          38.9256094784,
          38.9201512366,
          38.9212511623,
          38.9212511623,
          38.9212511623,
          38.9212511623,
          38.9212511623,
          38.9237554236,
          38.9237760517,
          38.9237760517,
          38.9237760517,
          38.9187577513,
          38.94564841,
          38.94564841,
          38.9459713842,
          38.9459713842,
          38.94564841,
          38.94564841,
          38.94564841,
          38.91931531,
          38.91931531,
          38.94412,
          38.94412,
          38.9441205,
          38.9441205,
          38.94412,
          38.94412,
          38.94412,
          38.928323607,
          38.91478055,
          38.92009096,
          38.92009096,
          38.92009096,
          38.92009096,
          38.92008964
         ],
         "legendgroup": "",
         "lon": [
          -77.0509174675,
          -77.0509174675,
          -77.05094283,
          -77.0509183763,
          -77.0509183763,
          -77.0509183763,
          -77.0912945247,
          -77.0912945247,
          -77.0891124991,
          -77.0891124991,
          -77.0891124991,
          -77.0498294958,
          -77.0498294958,
          -77.0498592994,
          -77.0498592994,
          -77.0498592994,
          -77.0457433645,
          -77.0457433644,
          -77.0455495694,
          -77.0455495694,
          -77.0455495694,
          -77.00124817,
          -77.00124817,
          -77.00124817,
          -77.00124817,
          -77.00124817,
          -77.00124817,
          -77.08911019,
          -77.09014234,
          -77.09014234,
          -77.09204646,
          -77.09014234,
          -77.09103313,
          -77.0471982,
          -77.0471766379,
          -77.0471766379,
          -77.0474703,
          -77.0474703,
          -77.047198,
          -77.04940546,
          -77.046933717,
          -77.0469337171,
          -77.0469559883,
          -77.0469559883,
          -77.0469559883,
          -77.04910347,
          -77.04910347,
          -77.0507121779,
          -77.05040372,
          -77.0504060294,
          -77.0504060294,
          -77.0504060294,
          -77.04985135,
          -77.04985135,
          -77.04985135,
          -77.049851,
          -77.04940546,
          -77.0496158696,
          -77.0496158696,
          -77.049407761,
          -77.049407761,
          -77.049407761,
          -77.0496158696,
          -77.0496158696,
          -77.049407761,
          -77.049407761,
          -77.049407761,
          -77.0439321867,
          -77.0439321867,
          -77.043931936,
          -77.0437243334,
          -77.0437243334,
          -77.0437243334,
          -77.04915705,
          -77.04915705,
          -77.0474435194,
          -77.0474435194,
          -77.0474541078,
          -77.0474541078,
          -77.0474541078,
          -77.04728395,
          -77.0473832,
          -77.0452015532,
          -77.0452015532,
          -77.0451868276,
          -77.0451868276,
          -77.0451868276,
          -77.0553319761,
          -77.0553319761,
          -77.0477193862,
          -77.0478879768,
          -77.0478879768,
          -77.0478879768,
          -77.04716108,
          -77.04716108,
          -77.0133832722,
          -77.0133832722,
          -77.0133832721,
          -77.0133891575,
          -77.0133891575,
          -77.0133891575,
          -77.09204646,
          -77.09014234,
          -77.09103313,
          -77.012910278,
          -77.012910278,
          -77.0129102781,
          -77.0124043489,
          -77.0124043489,
          -77.0130262183,
          -77.0130262183,
          -77.0130539237,
          -77.0130539237,
          -77.0130539237,
          -77.0127959145,
          -77.0127959145,
          -77.0127959144,
          -77.0124917286,
          -77.0124917286,
          -77.0124917286,
          -77.0894726274,
          -77.0894726274,
          -77.0869105829,
          -77.0869105829,
          -77.0869105829,
          -77.0456351,
          -77.0456351,
          -77.0471982,
          -77.0471766379,
          -77.0471766379,
          -77.0474703,
          -77.0474703,
          -77.047198,
          -77.046205648,
          -77.046205648,
          -77.0463887363,
          -77.0463887363,
          -77.0463887363,
          -77.0493473817,
          -77.0493473818,
          -77.0493555316,
          -77.0493555316,
          -77.0493555316,
          -77.044319138,
          -77.045067,
          -77.045067,
          -77.045067,
          -77.046409,
          -77.0471729216,
          -77.0468851147,
          -77.0468851147,
          -77.0468851147,
          -77.0481231971,
          -77.0481231971,
          -77.0481231971,
          -77.0481268048,
          -77.0481268048,
          -77.0481268048,
          -77.0494591684,
          -77.0494591684,
          -77.0494591684,
          -77.0491268075,
          -77.0491268075,
          -77.0491268075,
          -77.0482956804,
          -77.0482956804,
          -77.0482956804,
          -77.0481189944,
          -77.0481189944,
          -77.0481189944,
          -77.0507919503,
          -77.0507919503,
          -77.05078499,
          -77.0505140607,
          -77.0505140607,
          -77.0505140607,
          -77.0912945247,
          -77.0912945247,
          -77.0912945247,
          -77.0891124991,
          -77.0891124991,
          -77.0891124991,
          -77.0912945247,
          -77.0912945247,
          -77.0891124991,
          -77.0891124991,
          -77.0891124991,
          -77.045067,
          -77.045067,
          -77.045067,
          -77.046409,
          -77.045067,
          -77.045067,
          -77.045067,
          -77.046409,
          -77.045067,
          -77.045067,
          -77.045067,
          -77.046409,
          -77.0949485616,
          -77.0949485616,
          -77.0949485617,
          -77.0949516551,
          -77.0949516551,
          -77.0949516551,
          -77.0510758602,
          -77.0510758602,
          -77.0510758602,
          -77.0894726274,
          -77.0894726274,
          -77.0869105829,
          -77.0869105829,
          -77.0869105829,
          -77.0696518031,
          -77.09494933,
          -77.09489282,
          -77.09489282,
          -77.09489282,
          -77.09489282,
          -77.09489282,
          -77.0809159034,
          -77.0751837101,
          -77.0751837101,
          -77.0751837101,
          -77.0751837101,
          -77.0751837101,
          -77.0751837101,
          -77.0751837101,
          -77.0751837101,
          -77.0751837101,
          -77.0751837101,
          -77.0751837101,
          -77.0751837101,
          -77.06989826,
          -77.06989826,
          -77.04779159,
          -77.0477938791,
          -77.001330985,
          -77.001330985,
          -77.0012504479,
          -77.0012504479,
          -77.0012504479,
          -77.0022043204,
          -77.0022043204,
          -77.0035431701,
          -77.0035431702,
          -77.0022043204,
          -77.0022043204,
          -77.0751837101,
          -77.0751837101,
          -77.0751837101,
          -77.0696518031,
          -77.0751837101,
          -77.0035431701,
          -77.0035431702,
          -77.0022043204,
          -77.0022043204,
          -77.0022043204,
          -76.9920878858,
          -76.9969100412,
          -76.9969100412,
          -76.9969095115,
          -76.9969095115,
          -76.9969095115,
          -76.99690723,
          -76.99690723,
          -76.9969153,
          -76.994885,
          -76.99407376,
          -76.98903377,
          -77.0585692603,
          -77.0585390168,
          -77.0585390168,
          -77.0585390168,
          -77.05853671,
          -77.05961634,
          -77.05961634,
          -77.05961634,
          -77.05961634,
          -77.05961634,
          -77.0238819977,
          -77.0238819977,
          -77.0238819977,
          -77.0237915305,
          -77.0237915305,
          -77.0237915305,
          -77.02378924,
          -77.0358255688,
          -77.0358255688,
          -77.0358255688,
          -77.0358804532,
          -77.020511072,
          -77.0482034949,
          -77.012910278,
          -77.0124043489,
          -77.0507919503,
          -77.05078499,
          -77.0505140607,
          -77.0505140607,
          -77.0505140607,
          -77.046409,
          -77.0471766379,
          -77.0471766379,
          -77.0474703,
          -77.0474703,
          -77.047198,
          -77.0733283118,
          -77.0733283118,
          -77.07347167,
          -77.0732124082,
          -77.0732124082,
          -77.01548624,
          -77.015471032,
          -77.015471032,
          -77.0154885245,
          -77.0154885245,
          -77.01501809,
          -77.015035097,
          -77.015035097,
          -77.0150203783,
          -77.0150203783,
          -77.0751837101,
          -77.0751837101,
          -77.0696518031,
          -77.0692208221,
          -77.0692208221,
          -77.0692208221,
          -77.06921852,
          -77.07011468,
          -77.07011468,
          -77.07011468,
          -77.07011468,
          -77.0751837101,
          -77.04527993,
          -77.04527993,
          -77.0751837101,
          -76.9950971045,
          -76.9950971044,
          -76.9950085086,
          -76.9958739998,
          -76.99599228,
          -76.99599228,
          -76.99902434,
          -76.99914037,
          -76.99902434,
          -76.99608561,
          -76.9950971045,
          -76.9950971044,
          -76.9950085086,
          -76.9958739998,
          -76.9950971045,
          -76.9950971044,
          -76.9950085086,
          -76.9958739998,
          -76.9950971045,
          -76.9950971044,
          -76.9950085086,
          -76.9958739998,
          -76.9950971045,
          -76.9950971044,
          -76.9950085086,
          -76.9958739998,
          -76.9950971045,
          -76.9950971044,
          -76.9950085086,
          -76.9958739998,
          -76.9950971045,
          -76.9950971044,
          -76.9950085086,
          -76.9958739998,
          -76.9950971045,
          -76.9950971044,
          -76.9950085086,
          -76.9958739998,
          -76.9950971045,
          -76.9950971044,
          -76.9950085086,
          -76.9958739998,
          -76.9950971045,
          -76.9950971044,
          -76.9950085086,
          -76.9958739998,
          -76.9950971045,
          -76.9950971044,
          -76.9950085086,
          -76.9958739998,
          -76.9950971045,
          -76.9950971044,
          -76.9950085086,
          -76.9958739998,
          -76.9950971045,
          -76.9950971044,
          -76.9950085086,
          -76.9958739998,
          -76.9950971045,
          -76.9950971044,
          -76.9950085086,
          -76.9958739998,
          -76.9950971045,
          -76.9950971044,
          -76.9950085086,
          -76.9958739998,
          -76.9950971045,
          -76.9950971044,
          -76.9950085086,
          -76.9958739998,
          -76.9950085086,
          -76.9958739998,
          -77.020511072,
          -77.020511072,
          -77.0176351387,
          -77.0176351387,
          -77.0176351387,
          -77.020511072,
          -77.020511072,
          -77.020511072,
          -77.018528526,
          -77.020511072,
          -77.020511072,
          -77.020511072,
          -77.02149805,
          -77.0214999592,
          -77.0214999592,
          -77.0217205449,
          -77.0217205449,
          -77.0215755325,
          -77.020511072,
          -77.020511072,
          -77.020511072,
          -77.020511072,
          -77.020511072,
          -77.020511072,
          -77.0217205449,
          -77.02149805,
          -77.0214999592,
          -77.0214999592,
          -77.0215003334,
          -77.0215003334,
          -77.0215003334,
          -77.0176351387,
          -77.0176351387,
          -77.0176351387,
          -77.0174173577,
          -77.0178095633,
          -77.0178095633,
          -77.0172577686,
          -77.020511072,
          -77.020511072,
          -77.020511072,
          -77.018528526,
          -77.018528526,
          -77.018528526,
          -77.020511072,
          -77.020511072,
          -77.020511072,
          -77.018528526,
          -77.018528526,
          -77.018528526,
          -77.0219522874,
          -77.0219522874,
          -77.0219904876,
          -77.0219904876,
          -77.0219904876,
          -77.01945589,
          -77.019366243,
          -77.0193662431,
          -77.0183150161,
          -77.0183150161,
          -77.0183150161,
          -77.020511072,
          -77.020511072,
          -77.02149805,
          -77.0214999592,
          -77.0214999592,
          -77.020511072,
          -77.020511072,
          -77.020511072,
          -77.018528526,
          -77.018528526,
          -77.018528526,
          -77.02173988,
          -77.0217541655,
          -77.0217541656,
          -77.0217085428,
          -77.0217085428,
          -77.0217085428,
          -77.0176351387,
          -77.0176351387,
          -77.0176351387,
          -77.020305774,
          -77.020305774,
          -77.020305774,
          -77.019260574,
          -77.019260574,
          -77.019260574,
          -77.020511072,
          -77.020511072,
          -77.020511072,
          -77.018528526,
          -77.018528526,
          -77.018528526,
          -77.020511072,
          -77.020511072,
          -77.020511072,
          -77.018528526,
          -77.018528526,
          -77.018528526,
          -77.020511072,
          -77.020511072,
          -77.020511072,
          -77.018528526,
          -77.018528526,
          -77.018528526,
          -76.9950971045,
          -76.9950971044,
          -77.020511072,
          -77.020511072,
          -77.0215003334,
          -77.0215003334,
          -77.0215003334,
          -77.020511072,
          -77.020511072,
          -77.020511072,
          -77.018528526,
          -77.018528526,
          -77.018528526,
          -77.01945589,
          -77.019366243,
          -77.020305774,
          -77.020305774,
          -77.020305774,
          -77.019260574,
          -77.019260574,
          -77.019260574,
          -77.020511072,
          -77.020511072,
          -77.020511072,
          -77.02149805,
          -77.0214999592,
          -77.0214999592,
          -77.020305774,
          -77.020305774,
          -77.020305774,
          -77.019260574,
          -77.019260574,
          -77.019260574,
          -77.0217205449,
          -77.0217205449,
          -77.0176351387,
          -77.0176351387,
          -77.0176351387,
          -77.020511072,
          -77.020511072,
          -77.020511072,
          -77.0176351387,
          -77.0176351387,
          -77.0176351387,
          -77.0172577686,
          -77.0172577686,
          -77.0172577686,
          -77.0397427305,
          -77.0397427305,
          -77.0397427305,
          -77.0491218262,
          -77.0222083819,
          -77.0222083819,
          -77.0222083819,
          -77.0223534315,
          -77.0222083819,
          -77.0176463496,
          -77.0222083819,
          -76.9820347933,
          -76.9831781598,
          -76.9831781598,
          -76.9831781598,
          -77.0215767601,
          -77.0216191009,
          -77.0216191009,
          -77.0216191009,
          -77.0217541656,
          -77.0217085428,
          -77.0222083819,
          -77.0217085428,
          -77.0223534315,
          -77.0193662431,
          -77.0183150161,
          -77.0183150161,
          -77.0183150161,
          -77.0183150161,
          -77.0183150161,
          -77.0218469296,
          -77.0217916055,
          -77.0217916055,
          -77.0217916055,
          -77.0224373392,
          -77.07994777,
          -77.07994777,
          -77.0797939688,
          -77.0797939688,
          -77.07994777,
          -77.07994777,
          -77.07994777,
          -77.02153139,
          -77.02153139,
          -77.064405,
          -77.064405,
          -77.06440497,
          -77.06440497,
          -77.064405,
          -77.064405,
          -77.064405,
          -77.0022043204,
          -77.02218716,
          -77.02653027,
          -77.02653027,
          -77.02653027,
          -77.02653027,
          -77.02648899
         ],
         "marker": {
          "color": "#636efa"
         },
         "mode": "markers",
         "name": "",
         "showlegend": false,
         "subplot": "mapbox",
         "type": "scattermapbox"
        }
       ],
       "layout": {
        "legend": {
         "tracegroupgap": 0
        },
        "mapbox": {
         "center": {
          "lat": 38.9072,
          "lon": -77.0369
         },
         "domain": {
          "x": [
           0,
           1
          ],
          "y": [
           0,
           1
          ]
         },
         "style": "open-street-map",
         "zoom": 11
        },
        "margin": {
         "t": 60
        },
        "template": {
         "data": {
          "bar": [
           {
            "error_x": {
             "color": "#2a3f5f"
            },
            "error_y": {
             "color": "#2a3f5f"
            },
            "marker": {
             "line": {
              "color": "#E5ECF6",
              "width": 0.5
             },
             "pattern": {
              "fillmode": "overlay",
              "size": 10,
              "solidity": 0.2
             }
            },
            "type": "bar"
           }
          ],
          "barpolar": [
           {
            "marker": {
             "line": {
              "color": "#E5ECF6",
              "width": 0.5
             },
             "pattern": {
              "fillmode": "overlay",
              "size": 10,
              "solidity": 0.2
             }
            },
            "type": "barpolar"
           }
          ],
          "carpet": [
           {
            "aaxis": {
             "endlinecolor": "#2a3f5f",
             "gridcolor": "white",
             "linecolor": "white",
             "minorgridcolor": "white",
             "startlinecolor": "#2a3f5f"
            },
            "baxis": {
             "endlinecolor": "#2a3f5f",
             "gridcolor": "white",
             "linecolor": "white",
             "minorgridcolor": "white",
             "startlinecolor": "#2a3f5f"
            },
            "type": "carpet"
           }
          ],
          "choropleth": [
           {
            "colorbar": {
             "outlinewidth": 0,
             "ticks": ""
            },
            "type": "choropleth"
           }
          ],
          "contour": [
           {
            "colorbar": {
             "outlinewidth": 0,
             "ticks": ""
            },
            "colorscale": [
             [
              0,
              "#0d0887"
             ],
             [
              0.1111111111111111,
              "#46039f"
             ],
             [
              0.2222222222222222,
              "#7201a8"
             ],
             [
              0.3333333333333333,
              "#9c179e"
             ],
             [
              0.4444444444444444,
              "#bd3786"
             ],
             [
              0.5555555555555556,
              "#d8576b"
             ],
             [
              0.6666666666666666,
              "#ed7953"
             ],
             [
              0.7777777777777778,
              "#fb9f3a"
             ],
             [
              0.8888888888888888,
              "#fdca26"
             ],
             [
              1,
              "#f0f921"
             ]
            ],
            "type": "contour"
           }
          ],
          "contourcarpet": [
           {
            "colorbar": {
             "outlinewidth": 0,
             "ticks": ""
            },
            "type": "contourcarpet"
           }
          ],
          "heatmap": [
           {
            "colorbar": {
             "outlinewidth": 0,
             "ticks": ""
            },
            "colorscale": [
             [
              0,
              "#0d0887"
             ],
             [
              0.1111111111111111,
              "#46039f"
             ],
             [
              0.2222222222222222,
              "#7201a8"
             ],
             [
              0.3333333333333333,
              "#9c179e"
             ],
             [
              0.4444444444444444,
              "#bd3786"
             ],
             [
              0.5555555555555556,
              "#d8576b"
             ],
             [
              0.6666666666666666,
              "#ed7953"
             ],
             [
              0.7777777777777778,
              "#fb9f3a"
             ],
             [
              0.8888888888888888,
              "#fdca26"
             ],
             [
              1,
              "#f0f921"
             ]
            ],
            "type": "heatmap"
           }
          ],
          "heatmapgl": [
           {
            "colorbar": {
             "outlinewidth": 0,
             "ticks": ""
            },
            "colorscale": [
             [
              0,
              "#0d0887"
             ],
             [
              0.1111111111111111,
              "#46039f"
             ],
             [
              0.2222222222222222,
              "#7201a8"
             ],
             [
              0.3333333333333333,
              "#9c179e"
             ],
             [
              0.4444444444444444,
              "#bd3786"
             ],
             [
              0.5555555555555556,
              "#d8576b"
             ],
             [
              0.6666666666666666,
              "#ed7953"
             ],
             [
              0.7777777777777778,
              "#fb9f3a"
             ],
             [
              0.8888888888888888,
              "#fdca26"
             ],
             [
              1,
              "#f0f921"
             ]
            ],
            "type": "heatmapgl"
           }
          ],
          "histogram": [
           {
            "marker": {
             "pattern": {
              "fillmode": "overlay",
              "size": 10,
              "solidity": 0.2
             }
            },
            "type": "histogram"
           }
          ],
          "histogram2d": [
           {
            "colorbar": {
             "outlinewidth": 0,
             "ticks": ""
            },
            "colorscale": [
             [
              0,
              "#0d0887"
             ],
             [
              0.1111111111111111,
              "#46039f"
             ],
             [
              0.2222222222222222,
              "#7201a8"
             ],
             [
              0.3333333333333333,
              "#9c179e"
             ],
             [
              0.4444444444444444,
              "#bd3786"
             ],
             [
              0.5555555555555556,
              "#d8576b"
             ],
             [
              0.6666666666666666,
              "#ed7953"
             ],
             [
              0.7777777777777778,
              "#fb9f3a"
             ],
             [
              0.8888888888888888,
              "#fdca26"
             ],
             [
              1,
              "#f0f921"
             ]
            ],
            "type": "histogram2d"
           }
          ],
          "histogram2dcontour": [
           {
            "colorbar": {
             "outlinewidth": 0,
             "ticks": ""
            },
            "colorscale": [
             [
              0,
              "#0d0887"
             ],
             [
              0.1111111111111111,
              "#46039f"
             ],
             [
              0.2222222222222222,
              "#7201a8"
             ],
             [
              0.3333333333333333,
              "#9c179e"
             ],
             [
              0.4444444444444444,
              "#bd3786"
             ],
             [
              0.5555555555555556,
              "#d8576b"
             ],
             [
              0.6666666666666666,
              "#ed7953"
             ],
             [
              0.7777777777777778,
              "#fb9f3a"
             ],
             [
              0.8888888888888888,
              "#fdca26"
             ],
             [
              1,
              "#f0f921"
             ]
            ],
            "type": "histogram2dcontour"
           }
          ],
          "mesh3d": [
           {
            "colorbar": {
             "outlinewidth": 0,
             "ticks": ""
            },
            "type": "mesh3d"
           }
          ],
          "parcoords": [
           {
            "line": {
             "colorbar": {
              "outlinewidth": 0,
              "ticks": ""
             }
            },
            "type": "parcoords"
           }
          ],
          "pie": [
           {
            "automargin": true,
            "type": "pie"
           }
          ],
          "scatter": [
           {
            "fillpattern": {
             "fillmode": "overlay",
             "size": 10,
             "solidity": 0.2
            },
            "type": "scatter"
           }
          ],
          "scatter3d": [
           {
            "line": {
             "colorbar": {
              "outlinewidth": 0,
              "ticks": ""
             }
            },
            "marker": {
             "colorbar": {
              "outlinewidth": 0,
              "ticks": ""
             }
            },
            "type": "scatter3d"
           }
          ],
          "scattercarpet": [
           {
            "marker": {
             "colorbar": {
              "outlinewidth": 0,
              "ticks": ""
             }
            },
            "type": "scattercarpet"
           }
          ],
          "scattergeo": [
           {
            "marker": {
             "colorbar": {
              "outlinewidth": 0,
              "ticks": ""
             }
            },
            "type": "scattergeo"
           }
          ],
          "scattergl": [
           {
            "marker": {
             "colorbar": {
              "outlinewidth": 0,
              "ticks": ""
             }
            },
            "type": "scattergl"
           }
          ],
          "scattermapbox": [
           {
            "marker": {
             "colorbar": {
              "outlinewidth": 0,
              "ticks": ""
             }
            },
            "type": "scattermapbox"
           }
          ],
          "scatterpolar": [
           {
            "marker": {
             "colorbar": {
              "outlinewidth": 0,
              "ticks": ""
             }
            },
            "type": "scatterpolar"
           }
          ],
          "scatterpolargl": [
           {
            "marker": {
             "colorbar": {
              "outlinewidth": 0,
              "ticks": ""
             }
            },
            "type": "scatterpolargl"
           }
          ],
          "scatterternary": [
           {
            "marker": {
             "colorbar": {
              "outlinewidth": 0,
              "ticks": ""
             }
            },
            "type": "scatterternary"
           }
          ],
          "surface": [
           {
            "colorbar": {
             "outlinewidth": 0,
             "ticks": ""
            },
            "colorscale": [
             [
              0,
              "#0d0887"
             ],
             [
              0.1111111111111111,
              "#46039f"
             ],
             [
              0.2222222222222222,
              "#7201a8"
             ],
             [
              0.3333333333333333,
              "#9c179e"
             ],
             [
              0.4444444444444444,
              "#bd3786"
             ],
             [
              0.5555555555555556,
              "#d8576b"
             ],
             [
              0.6666666666666666,
              "#ed7953"
             ],
             [
              0.7777777777777778,
              "#fb9f3a"
             ],
             [
              0.8888888888888888,
              "#fdca26"
             ],
             [
              1,
              "#f0f921"
             ]
            ],
            "type": "surface"
           }
          ],
          "table": [
           {
            "cells": {
             "fill": {
              "color": "#EBF0F8"
             },
             "line": {
              "color": "white"
             }
            },
            "header": {
             "fill": {
              "color": "#C8D4E3"
             },
             "line": {
              "color": "white"
             }
            },
            "type": "table"
           }
          ]
         },
         "layout": {
          "annotationdefaults": {
           "arrowcolor": "#2a3f5f",
           "arrowhead": 0,
           "arrowwidth": 1
          },
          "autotypenumbers": "strict",
          "coloraxis": {
           "colorbar": {
            "outlinewidth": 0,
            "ticks": ""
           }
          },
          "colorscale": {
           "diverging": [
            [
             0,
             "#8e0152"
            ],
            [
             0.1,
             "#c51b7d"
            ],
            [
             0.2,
             "#de77ae"
            ],
            [
             0.3,
             "#f1b6da"
            ],
            [
             0.4,
             "#fde0ef"
            ],
            [
             0.5,
             "#f7f7f7"
            ],
            [
             0.6,
             "#e6f5d0"
            ],
            [
             0.7,
             "#b8e186"
            ],
            [
             0.8,
             "#7fbc41"
            ],
            [
             0.9,
             "#4d9221"
            ],
            [
             1,
             "#276419"
            ]
           ],
           "sequential": [
            [
             0,
             "#0d0887"
            ],
            [
             0.1111111111111111,
             "#46039f"
            ],
            [
             0.2222222222222222,
             "#7201a8"
            ],
            [
             0.3333333333333333,
             "#9c179e"
            ],
            [
             0.4444444444444444,
             "#bd3786"
            ],
            [
             0.5555555555555556,
             "#d8576b"
            ],
            [
             0.6666666666666666,
             "#ed7953"
            ],
            [
             0.7777777777777778,
             "#fb9f3a"
            ],
            [
             0.8888888888888888,
             "#fdca26"
            ],
            [
             1,
             "#f0f921"
            ]
           ],
           "sequentialminus": [
            [
             0,
             "#0d0887"
            ],
            [
             0.1111111111111111,
             "#46039f"
            ],
            [
             0.2222222222222222,
             "#7201a8"
            ],
            [
             0.3333333333333333,
             "#9c179e"
            ],
            [
             0.4444444444444444,
             "#bd3786"
            ],
            [
             0.5555555555555556,
             "#d8576b"
            ],
            [
             0.6666666666666666,
             "#ed7953"
            ],
            [
             0.7777777777777778,
             "#fb9f3a"
            ],
            [
             0.8888888888888888,
             "#fdca26"
            ],
            [
             1,
             "#f0f921"
            ]
           ]
          },
          "colorway": [
           "#636efa",
           "#EF553B",
           "#00cc96",
           "#ab63fa",
           "#FFA15A",
           "#19d3f3",
           "#FF6692",
           "#B6E880",
           "#FF97FF",
           "#FECB52"
          ],
          "font": {
           "color": "#2a3f5f"
          },
          "geo": {
           "bgcolor": "white",
           "lakecolor": "white",
           "landcolor": "#E5ECF6",
           "showlakes": true,
           "showland": true,
           "subunitcolor": "white"
          },
          "hoverlabel": {
           "align": "left"
          },
          "hovermode": "closest",
          "mapbox": {
           "style": "light"
          },
          "paper_bgcolor": "white",
          "plot_bgcolor": "#E5ECF6",
          "polar": {
           "angularaxis": {
            "gridcolor": "white",
            "linecolor": "white",
            "ticks": ""
           },
           "bgcolor": "#E5ECF6",
           "radialaxis": {
            "gridcolor": "white",
            "linecolor": "white",
            "ticks": ""
           }
          },
          "scene": {
           "xaxis": {
            "backgroundcolor": "#E5ECF6",
            "gridcolor": "white",
            "gridwidth": 2,
            "linecolor": "white",
            "showbackground": true,
            "ticks": "",
            "zerolinecolor": "white"
           },
           "yaxis": {
            "backgroundcolor": "#E5ECF6",
            "gridcolor": "white",
            "gridwidth": 2,
            "linecolor": "white",
            "showbackground": true,
            "ticks": "",
            "zerolinecolor": "white"
           },
           "zaxis": {
            "backgroundcolor": "#E5ECF6",
            "gridcolor": "white",
            "gridwidth": 2,
            "linecolor": "white",
            "showbackground": true,
            "ticks": "",
            "zerolinecolor": "white"
           }
          },
          "shapedefaults": {
           "line": {
            "color": "#2a3f5f"
           }
          },
          "ternary": {
           "aaxis": {
            "gridcolor": "white",
            "linecolor": "white",
            "ticks": ""
           },
           "baxis": {
            "gridcolor": "white",
            "linecolor": "white",
            "ticks": ""
           },
           "bgcolor": "#E5ECF6",
           "caxis": {
            "gridcolor": "white",
            "linecolor": "white",
            "ticks": ""
           }
          },
          "title": {
           "x": 0.05
          },
          "xaxis": {
           "automargin": true,
           "gridcolor": "white",
           "linecolor": "white",
           "ticks": "",
           "title": {
            "standoff": 15
           },
           "zerolinecolor": "white",
           "zerolinewidth": 2
          },
          "yaxis": {
           "automargin": true,
           "gridcolor": "white",
           "linecolor": "white",
           "ticks": "",
           "title": {
            "standoff": 15
           },
           "zerolinecolor": "white",
           "zerolinewidth": 2
          }
         }
        }
       }
      }
     },
     "metadata": {},
     "output_type": "display_data"
    }
   ],
   "source": [
    "import plotly.express as px\n",
    "\n",
    "fig = px.scatter_mapbox(df,\n",
    "                        lat=\"LATITUDE\",\n",
    "                        lon=\"LONGITUDE\",\n",
    "                        hover_name=\"PROPERTYNAME\",  # Show building name on hover\n",
    "                        zoom=11,  # Adjust zoom level as needed\n",
    "                        center={\"lat\": 38.9072, \"lon\": -77.0369}  # Center on Washington DC\n",
    "                        )\n",
    "fig.update_layout(mapbox_style=\"open-street-map\")  # Use open-street-map or other styles\n",
    "fig.show()"
   ]
  },
  {
   "cell_type": "markdown",
   "metadata": {
    "id": "OgaK7-XKxWKu"
   },
   "source": [
    "alright guys... very rudimentary map of all buildings here..."
   ]
  },
  {
   "cell_type": "code",
   "execution_count": 9,
   "metadata": {
    "colab": {
     "base_uri": "https://localhost:8080/",
     "height": 542
    },
    "id": "dDdnEZMHvD-U",
    "outputId": "1c873360-0449-4aa5-f625-a5d07fbd2271"
   },
   "outputs": [
    {
     "data": {
      "application/vnd.plotly.v1+json": {
       "config": {
        "plotlyServerURL": "https://plot.ly"
       },
       "data": [
        {
         "customdata": [
          [
           "Amsterdam Hall",
           0
          ],
          [
           "Amsterdam Hall",
           9594.5
          ],
          [
           "Amsterdam Hall",
           9532.8
          ],
          [
           "Amsterdam Hall",
           9508.9
          ],
          [
           "Amsterdam Hall",
           6469.7
          ],
          [
           "Amsterdam Hall",
           6872.6
          ],
          [
           "Somers Hall",
           4369.6
          ],
          [
           "Somers Hall",
           4326.9
          ],
          [
           "Somers Hall",
           3549.9
          ],
          [
           "Somers Hall",
           3773.9
          ],
          [
           "Somers Hall",
           3020.3
          ],
          [
           "Townhouse Row",
           3269.3
          ],
          [
           "Townhouse Row",
           2256.5
          ],
          [
           "Townhouse Row",
           1849.5
          ],
          [
           "Townhouse Row",
           1538.9
          ],
          [
           "Townhouse Row",
           1756.9
          ],
          [
           "Potomac House",
           7173.1
          ],
          [
           "Potomac House",
           8717.4
          ],
          [
           "Potomac House",
           8725.7
          ],
          [
           "Potomac House",
           4248.1
          ],
          [
           "Potomac House",
           5657.3
          ],
          [
           "DOEE - Mount Vernon Campus",
           9182.8
          ],
          [
           "DOEE - Mount Vernon Campus",
           10536.1
          ],
          [
           "DOEE - Mount Vernon Campus",
           32729.9
          ],
          [
           "BEPS1 - Mount Vernon Campus",
           1582.8
          ],
          [
           "BEPS1 - Mount Vernon Campus",
           1086.1
          ],
          [
           "BEPS1 - Mount Vernon Campus",
           1193.5
          ],
          [
           "Lafayette Hall",
           0
          ],
          [
           "Lafayette Hall",
           8.9
          ],
          [
           "Lafayette Hall",
           1211.6
          ],
          [
           "Lafayette Hall",
           1292.4
          ],
          [
           "Lafayette Hall",
           1331.8
          ],
          [
           "Lafayette Hall",
           1243.3
          ],
          [
           "JBKO Hall",
           0
          ],
          [
           "Dakota",
           9033.8
          ],
          [
           "Dakota",
           6980
          ],
          [
           "Dakota",
           7360
          ],
          [
           "Dakota",
           691.6
          ],
          [
           "Dakota",
           719.7
          ],
          [
           "International House",
           2889.4
          ],
          [
           "International House",
           2760
          ],
          [
           "Ivory Tower",
           0
          ],
          [
           "Shenkman Hall",
           15523.6
          ],
          [
           "Shenkman Hall",
           8654.3
          ],
          [
           "Shenkman Hall",
           8173.9
          ],
          [
           "Shenkman Hall",
           10898.1
          ],
          [
           "Fulbright Hall",
           4657.4
          ],
          [
           "Fulbright Hall",
           4015.4
          ],
          [
           "Fulbright Hall",
           2610.1
          ],
          [
           "Fulbright Hall",
           1992.2
          ],
          [
           "Munson Hall",
           0
          ],
          [
           "Munson Hall",
           1806.7
          ],
          [
           "Munson Hall",
           1971.8
          ],
          [
           "Munson Hall",
           2081.9
          ],
          [
           "Munson Hall",
           2102.9
          ],
          [
           "Munson Hall",
           2321.3
          ],
          [
           "JBKO Hall",
           5182.1
          ],
          [
           "JBKO Hall",
           4964.1
          ],
          [
           "JBKO Hall",
           5089.4
          ],
          [
           "JBKO Hall",
           5965.7
          ],
          [
           "JBKO Hall",
           7196.4
          ],
          [
           "Thurston & Mitchell Halls",
           0
          ],
          [
           "Thurston and Mitchell Halls",
           18725.8
          ],
          [
           "Thurston and Mitchell Halls",
           18038.5
          ],
          [
           "Thurston and Mitchell Halls",
           18849.4
          ],
          [
           "Thurston and Mitchell Halls",
           20821.6
          ],
          [
           "Thurston and Mitchell Halls",
           17720.1
          ],
          [
           "Madison Hall",
           2525.2
          ],
          [
           "Madison Hall",
           1584.4
          ],
          [
           "Guthridge Hall",
           4265.7
          ],
          [
           "Guthridge Hall",
           4797.3
          ],
          [
           "Guthridge Hall",
           4035.3
          ],
          [
           "Guthridge Hall",
           3824.5
          ],
          [
           "Guthridge Hall",
           2737.9
          ],
          [
           "Strong Hall",
           1656
          ],
          [
           "Strong Hall",
           1005.6
          ],
          [
           "Francis Scott Key Hall",
           2787.7
          ],
          [
           "Francis Scott Key Hall",
           3231.9
          ],
          [
           "Francis Scott Key Hall",
           3534.7
          ],
          [
           "Francis Scott Key Hall",
           2811.2
          ],
          [
           "Francis Scott Key Hall",
           2179
          ],
          [
           "Hall on Virginia Avenue",
           0
          ],
          [
           "Hall on Virginia Avenue",
           4359.1
          ],
          [
           "Aston",
           4860.4
          ],
          [
           "Aston",
           4407.3
          ],
          [
           "Aston",
           2551.8
          ],
          [
           "Aston",
           2090.4
          ],
          [
           "2109 F St",
           1229.8
          ],
          [
           "2109 F St",
           771
          ],
          [
           "Merriweather Campus",
           5585.6
          ],
          [
           "Merriweather Campus",
           9725.1
          ],
          [
           "Merriweather Campus",
           9968.2
          ],
          [
           "2013 H Street NW",
           348.7
          ],
          [
           "2013 H Street NW",
           460.9
          ],
          [
           "Marvin Center",
           0
          ],
          [
           "Marvin Center",
           11018.9
          ],
          [
           "Marvin Center",
           9960.5
          ],
          [
           "Marvin Center",
           9387.3
          ],
          [
           "Marvin Center",
           7351.7
          ],
          [
           "Marvin Center",
           5894
          ],
          [
           "Media and Public Affairs",
           1861.6
          ],
          [
           "Media and Public Affairs",
           2095.2
          ],
          [
           "Media and Public Affairs",
           2853.5
          ],
          [
           "Media and Public Affairs",
           4092.5
          ],
          [
           "Media and Public Affairs",
           3630.2
          ],
          [
           "Smith Center",
           7968.1
          ],
          [
           "Smith Center",
           6589
          ],
          [
           "Smith Center",
           11964
          ],
          [
           "Smith Center",
           26196.6
          ],
          [
           "Smith Center",
           11850.1
          ],
          [
           "Old Main",
           252.6
          ],
          [
           "Lisner & Bell Halls",
           2333
          ],
          [
           "Lisner & Bell Halls",
           1024.7
          ],
          [
           "Lisner & Bell Halls",
           816.5
          ],
          [
           "Lisner & Bell Halls",
           1226.4
          ],
          [
           "Lisner Auditorium, Monroe Hall, and 714 21st St",
           8230.6
          ],
          [
           "Lisner Auditorium, Monroe Hall, and 714 21st St",
           6307.2
          ],
          [
           "Lisner Auditorium, Monroe Hall, and 714 21st St",
           3199.4
          ],
          [
           "Lisner Auditorium, Monroe Hall, and 714 21st St",
           4183.5
          ],
          [
           "Residence Hall at Square 80",
           0
          ],
          [
           "South Hall",
           9630.4
          ],
          [
           "South Hall",
           10552.8
          ],
          [
           "South Hall",
           11123.4
          ],
          [
           "South Hall",
           8437.6
          ],
          [
           "South Hall",
           8960.1
          ],
          [
           "Funger, Duques, & Tompkins Halls",
           0
          ],
          [
           "Funger, Duques, and Tompkins Halls",
           5733
          ],
          [
           "Funger, Duques, and Tompkins Halls",
           5486.8
          ],
          [
           "Funger, Duques, and Tompkins Halls",
           5991.3
          ],
          [
           "Funger, Duques, and Tompkins Halls",
           8365.7
          ],
          [
           "Funger, Duques, and Tompkins Halls",
           5462
          ],
          [
           "Academic Center",
           0
          ],
          [
           "Academic Center",
           7383.7
          ],
          [
           "Academic Center",
           11450
          ],
          [
           "Academic Center",
           11642
          ],
          [
           "Academic Center",
           10214
          ],
          [
           "Academic Center",
           4734.7
          ],
          [
           "Ross Hall",
           0
          ],
          [
           "Ross Hall",
           40095.3
          ],
          [
           "Ross Hall",
           29814.4
          ],
          [
           "Ross Hall",
           58451
          ],
          [
           "Ross Hall",
           33374.1
          ],
          [
           "Ross Hall",
           51886.4
          ],
          [
           "Pelham Hall",
           0
          ],
          [
           "West Hall",
           4067.5
          ],
          [
           "West Hall",
           3634.7
          ],
          [
           "West Hall",
           5540.4
          ],
          [
           "West Hall",
           5630.5
          ],
          [
           "West Hall",
           6164.5
          ],
          [
           "Ames Hall",
           132.3
          ],
          [
           "Ames Hall",
           145.8
          ],
          [
           "Ames Hall",
           418.6
          ],
          [
           "Ames Hall",
           108
          ],
          [
           "Ames Hall",
           974.5
          ],
          [
           "Stuart Hall & 700 20th St",
           562.5
          ],
          [
           "Stuart Hall & 700 20th St",
           649.7
          ],
          [
           "Stuart Hall & 700 20th St",
           470.2
          ],
          [
           "Stuart Hall & 700 20th St",
           237.1
          ],
          [
           "Burns Law Library, Stockton Hall, and Lerner Hall",
           6691.2
          ],
          [
           "Burns Law Library, Stockton Hall, and Lerner Hall",
           5385.3
          ],
          [
           "Burns Law Library, Stockton Hall, and Lerner Hall",
           3677.3
          ],
          [
           "Burns Law Library, Stockton Hall, and Lerner Hall",
           3250.1
          ],
          [
           "Corcoran & Samson Halls",
           1542.1
          ],
          [
           "Corcoran & Samson Halls",
           1630
          ],
          [
           "Corcoran & Samson Halls",
           391.8
          ],
          [
           "Corcoran & Samson Halls",
           287.1
          ],
          [
           "Milken Institute School of Public Health",
           3113.6
          ],
          [
           "Milken Institute School of Public Health",
           2359
          ],
          [
           "Milken Institute School of Public Health",
           2214.4
          ],
          [
           "2125-2131 G St",
           0
          ],
          [
           "2125-2131 G St",
           258.4
          ],
          [
           "Gelman Library Group",
           10411.5
          ],
          [
           "Ross Hall Group",
           47084
          ],
          [
           "Ross Hall Group",
           36750.3
          ],
          [
           "Ross Hall Group",
           70804.2
          ],
          [
           "Ross Hall Group",
           44072
          ],
          [
           "Ross Hall Group",
           64753.2
          ],
          [
           "Lisner Hall Group",
           7004
          ],
          [
           "Marvin Center Group",
           11027.8
          ],
          [
           "Marvin Center Group",
           11172.1
          ],
          [
           "Marvin Center Group",
           10679.6
          ],
          [
           "Marvin Center Group",
           8683.4
          ],
          [
           "Marvin Center Group",
           7137.3
          ],
          [
           "Law Clinic Townhouses",
           94.7
          ],
          [
           "Law Clinic Townhouses",
           115.5
          ],
          [
           "Corcoran School of the Arts and Design",
           3352.8
          ],
          [
           "Corcoran School of the Arts and Design",
           1549.1
          ],
          [
           "Corcoran School of the Arts and Design",
           1508.8
          ],
          [
           "Science and Engineering Hall",
           3349.1
          ]
         ],
         "hovertemplate": "Building: %{customdata[0]}<br>Water Usage: %{customdata[1]} KGAL",
         "lat": [
          38.8992826278,
          38.8992826278,
          38.915674,
          38.8993224015,
          38.8993224015,
          38.8993224015,
          38.9178792874,
          38.9178792874,
          38.9189160647,
          38.9189160647,
          38.9189160647,
          38.8978566588,
          38.8978566588,
          38.8978501709,
          38.8978501709,
          38.8978501709,
          38.8976926503,
          38.8976926503,
          38.8975861216,
          38.8975861216,
          38.8975861216,
          38.91890861,
          38.91827537,
          38.91827537,
          38.91736936,
          38.91827537,
          38.91720341,
          38.89989467,
          38.9001396467,
          38.9001396466,
          38.8996971,
          38.8996971,
          38.899895,
          38.90049984,
          38.8970567272,
          38.8970567272,
          38.8970982747,
          38.8970982747,
          38.8970982747,
          38.89689782,
          38.89689782,
          38.8979319691,
          38.920224,
          38.8979461457,
          38.8979461457,
          38.8979461457,
          38.89981114,
          38.89981114,
          38.89981114,
          38.899811,
          38.90049984,
          38.9003856769,
          38.9003856769,
          38.9005072894,
          38.9005072894,
          38.9005072894,
          38.9003856769,
          38.9003856769,
          38.9005072894,
          38.9005072894,
          38.9005072894,
          38.8969753392,
          38.8969753392,
          38.8965700656,
          38.8965802868,
          38.8965802868,
          38.8965802868,
          38.89936543,
          38.89936543,
          38.8976711494,
          38.8976711494,
          38.8976451515,
          38.8976451515,
          38.8976451515,
          38.89812395,
          38.89812193,
          38.8976504597,
          38.8976504597,
          38.8976437083,
          38.8976437083,
          38.8976437083,
          38.9002817834,
          38.9002817834,
          38.9043597726,
          38.9044571862,
          38.9044571862,
          38.9044571862,
          38.89763226,
          38.89763226,
          38.91736936,
          38.91827537,
          38.91720341,
          38.89990162,
          38.89990162,
          38.89989467,
          38.9001396467,
          38.9001396466,
          38.8996971,
          38.8996971,
          38.899895,
          38.8999147005,
          38.8999147005,
          38.8998173157,
          38.8998173157,
          38.8998173157,
          38.8978568635,
          38.8978568635,
          38.8978490336,
          38.8978490336,
          38.8978490336,
          38.8971202944,
          38.898404,
          38.898404,
          38.898404,
          38.898509,
          38.8987823134,
          38.8988855627,
          38.8988855627,
          38.8988855627,
          38.8976708714,
          38.8976708714,
          38.8976708713,
          38.8975383073,
          38.8975383073,
          38.8975383073,
          38.8989608667,
          38.8989608667,
          38.8989608667,
          38.8989956245,
          38.8989956245,
          38.8989956245,
          38.9001391894,
          38.9001391894,
          38.9001391894,
          38.8999973214,
          38.8999973214,
          38.8999973214,
          38.9001318249,
          38.9001318249,
          38.915103,
          38.9004095259,
          38.9004095259,
          38.9004095259,
          38.9178792874,
          38.9178792874,
          38.9178792874,
          38.9189160647,
          38.9189160647,
          38.9189160647,
          38.9178792874,
          38.9178792874,
          38.9189160647,
          38.9189160647,
          38.9189160647,
          38.898404,
          38.898404,
          38.898404,
          38.898509,
          38.898404,
          38.898404,
          38.898404,
          38.898509,
          38.898404,
          38.898404,
          38.898404,
          38.898509,
          38.9021965251,
          38.9021965251,
          38.9021965251,
          38.8985674,
          38.8985768856,
          38.899214349,
          38.9001318249,
          38.915103,
          38.9004095259,
          38.9004095259,
          38.9004095259,
          38.898509,
          38.9001396467,
          38.9001396466,
          38.8996971,
          38.8996971,
          38.899895,
          38.89810411,
          38.89810411,
          38.8958544638,
          38.8958544638,
          38.8958544638,
          38.9004753402
         ],
         "legendgroup": "",
         "lon": [
          -77.0509174675,
          -77.0509174675,
          -77.05094283,
          -77.0509183763,
          -77.0509183763,
          -77.0509183763,
          -77.0912945247,
          -77.0912945247,
          -77.0891124991,
          -77.0891124991,
          -77.0891124991,
          -77.0498294958,
          -77.0498294958,
          -77.0498592994,
          -77.0498592994,
          -77.0498592994,
          -77.0457433645,
          -77.0457433644,
          -77.0455495694,
          -77.0455495694,
          -77.0455495694,
          -77.08911019,
          -77.09014234,
          -77.09014234,
          -77.09204646,
          -77.09014234,
          -77.09103313,
          -77.0471982,
          -77.0471766379,
          -77.0471766379,
          -77.0474703,
          -77.0474703,
          -77.047198,
          -77.04940546,
          -77.046933717,
          -77.0469337171,
          -77.0469559883,
          -77.0469559883,
          -77.0469559883,
          -77.04910347,
          -77.04910347,
          -77.0507121779,
          -77.05040372,
          -77.0504060294,
          -77.0504060294,
          -77.0504060294,
          -77.04985135,
          -77.04985135,
          -77.04985135,
          -77.049851,
          -77.04940546,
          -77.0496158696,
          -77.0496158696,
          -77.049407761,
          -77.049407761,
          -77.049407761,
          -77.0496158696,
          -77.0496158696,
          -77.049407761,
          -77.049407761,
          -77.049407761,
          -77.0439321867,
          -77.0439321867,
          -77.043931936,
          -77.0437243334,
          -77.0437243334,
          -77.0437243334,
          -77.04915705,
          -77.04915705,
          -77.0474435194,
          -77.0474435194,
          -77.0474541078,
          -77.0474541078,
          -77.0474541078,
          -77.04728395,
          -77.0473832,
          -77.0452015532,
          -77.0452015532,
          -77.0451868276,
          -77.0451868276,
          -77.0451868276,
          -77.0553319761,
          -77.0553319761,
          -77.0477193862,
          -77.0478879768,
          -77.0478879768,
          -77.0478879768,
          -77.04716108,
          -77.04716108,
          -77.09204646,
          -77.09014234,
          -77.09103313,
          -77.0456351,
          -77.0456351,
          -77.0471982,
          -77.0471766379,
          -77.0471766379,
          -77.0474703,
          -77.0474703,
          -77.047198,
          -77.046205648,
          -77.046205648,
          -77.0463887363,
          -77.0463887363,
          -77.0463887363,
          -77.0493473817,
          -77.0493473818,
          -77.0493555316,
          -77.0493555316,
          -77.0493555316,
          -77.044319138,
          -77.045067,
          -77.045067,
          -77.045067,
          -77.046409,
          -77.0471729216,
          -77.0468851147,
          -77.0468851147,
          -77.0468851147,
          -77.0481231971,
          -77.0481231971,
          -77.0481231971,
          -77.0481268048,
          -77.0481268048,
          -77.0481268048,
          -77.0494591684,
          -77.0494591684,
          -77.0494591684,
          -77.0491268075,
          -77.0491268075,
          -77.0491268075,
          -77.0482956804,
          -77.0482956804,
          -77.0482956804,
          -77.0481189944,
          -77.0481189944,
          -77.0481189944,
          -77.0507919503,
          -77.0507919503,
          -77.05078499,
          -77.0505140607,
          -77.0505140607,
          -77.0505140607,
          -77.0912945247,
          -77.0912945247,
          -77.0912945247,
          -77.0891124991,
          -77.0891124991,
          -77.0891124991,
          -77.0912945247,
          -77.0912945247,
          -77.0891124991,
          -77.0891124991,
          -77.0891124991,
          -77.045067,
          -77.045067,
          -77.045067,
          -77.046409,
          -77.045067,
          -77.045067,
          -77.045067,
          -77.046409,
          -77.045067,
          -77.045067,
          -77.045067,
          -77.046409,
          -77.0510758602,
          -77.0510758602,
          -77.0510758602,
          -77.04779159,
          -77.0477938791,
          -77.0482034949,
          -77.0507919503,
          -77.05078499,
          -77.0505140607,
          -77.0505140607,
          -77.0505140607,
          -77.046409,
          -77.0471766379,
          -77.0471766379,
          -77.0474703,
          -77.0474703,
          -77.047198,
          -77.04527993,
          -77.04527993,
          -77.0397427305,
          -77.0397427305,
          -77.0397427305,
          -77.0491218262
         ],
         "marker": {
          "color": "#636efa"
         },
         "mode": "markers",
         "name": "",
         "showlegend": false,
         "subplot": "mapbox",
         "type": "scattermapbox"
        }
       ],
       "layout": {
        "legend": {
         "tracegroupgap": 0
        },
        "mapbox": {
         "center": {
          "lat": 38.899,
          "lon": -77.046
         },
         "domain": {
          "x": [
           0,
           1
          ],
          "y": [
           0,
           1
          ]
         },
         "style": "open-street-map",
         "zoom": 15
        },
        "margin": {
         "t": 60
        },
        "template": {
         "data": {
          "bar": [
           {
            "error_x": {
             "color": "#2a3f5f"
            },
            "error_y": {
             "color": "#2a3f5f"
            },
            "marker": {
             "line": {
              "color": "#E5ECF6",
              "width": 0.5
             },
             "pattern": {
              "fillmode": "overlay",
              "size": 10,
              "solidity": 0.2
             }
            },
            "type": "bar"
           }
          ],
          "barpolar": [
           {
            "marker": {
             "line": {
              "color": "#E5ECF6",
              "width": 0.5
             },
             "pattern": {
              "fillmode": "overlay",
              "size": 10,
              "solidity": 0.2
             }
            },
            "type": "barpolar"
           }
          ],
          "carpet": [
           {
            "aaxis": {
             "endlinecolor": "#2a3f5f",
             "gridcolor": "white",
             "linecolor": "white",
             "minorgridcolor": "white",
             "startlinecolor": "#2a3f5f"
            },
            "baxis": {
             "endlinecolor": "#2a3f5f",
             "gridcolor": "white",
             "linecolor": "white",
             "minorgridcolor": "white",
             "startlinecolor": "#2a3f5f"
            },
            "type": "carpet"
           }
          ],
          "choropleth": [
           {
            "colorbar": {
             "outlinewidth": 0,
             "ticks": ""
            },
            "type": "choropleth"
           }
          ],
          "contour": [
           {
            "colorbar": {
             "outlinewidth": 0,
             "ticks": ""
            },
            "colorscale": [
             [
              0,
              "#0d0887"
             ],
             [
              0.1111111111111111,
              "#46039f"
             ],
             [
              0.2222222222222222,
              "#7201a8"
             ],
             [
              0.3333333333333333,
              "#9c179e"
             ],
             [
              0.4444444444444444,
              "#bd3786"
             ],
             [
              0.5555555555555556,
              "#d8576b"
             ],
             [
              0.6666666666666666,
              "#ed7953"
             ],
             [
              0.7777777777777778,
              "#fb9f3a"
             ],
             [
              0.8888888888888888,
              "#fdca26"
             ],
             [
              1,
              "#f0f921"
             ]
            ],
            "type": "contour"
           }
          ],
          "contourcarpet": [
           {
            "colorbar": {
             "outlinewidth": 0,
             "ticks": ""
            },
            "type": "contourcarpet"
           }
          ],
          "heatmap": [
           {
            "colorbar": {
             "outlinewidth": 0,
             "ticks": ""
            },
            "colorscale": [
             [
              0,
              "#0d0887"
             ],
             [
              0.1111111111111111,
              "#46039f"
             ],
             [
              0.2222222222222222,
              "#7201a8"
             ],
             [
              0.3333333333333333,
              "#9c179e"
             ],
             [
              0.4444444444444444,
              "#bd3786"
             ],
             [
              0.5555555555555556,
              "#d8576b"
             ],
             [
              0.6666666666666666,
              "#ed7953"
             ],
             [
              0.7777777777777778,
              "#fb9f3a"
             ],
             [
              0.8888888888888888,
              "#fdca26"
             ],
             [
              1,
              "#f0f921"
             ]
            ],
            "type": "heatmap"
           }
          ],
          "heatmapgl": [
           {
            "colorbar": {
             "outlinewidth": 0,
             "ticks": ""
            },
            "colorscale": [
             [
              0,
              "#0d0887"
             ],
             [
              0.1111111111111111,
              "#46039f"
             ],
             [
              0.2222222222222222,
              "#7201a8"
             ],
             [
              0.3333333333333333,
              "#9c179e"
             ],
             [
              0.4444444444444444,
              "#bd3786"
             ],
             [
              0.5555555555555556,
              "#d8576b"
             ],
             [
              0.6666666666666666,
              "#ed7953"
             ],
             [
              0.7777777777777778,
              "#fb9f3a"
             ],
             [
              0.8888888888888888,
              "#fdca26"
             ],
             [
              1,
              "#f0f921"
             ]
            ],
            "type": "heatmapgl"
           }
          ],
          "histogram": [
           {
            "marker": {
             "pattern": {
              "fillmode": "overlay",
              "size": 10,
              "solidity": 0.2
             }
            },
            "type": "histogram"
           }
          ],
          "histogram2d": [
           {
            "colorbar": {
             "outlinewidth": 0,
             "ticks": ""
            },
            "colorscale": [
             [
              0,
              "#0d0887"
             ],
             [
              0.1111111111111111,
              "#46039f"
             ],
             [
              0.2222222222222222,
              "#7201a8"
             ],
             [
              0.3333333333333333,
              "#9c179e"
             ],
             [
              0.4444444444444444,
              "#bd3786"
             ],
             [
              0.5555555555555556,
              "#d8576b"
             ],
             [
              0.6666666666666666,
              "#ed7953"
             ],
             [
              0.7777777777777778,
              "#fb9f3a"
             ],
             [
              0.8888888888888888,
              "#fdca26"
             ],
             [
              1,
              "#f0f921"
             ]
            ],
            "type": "histogram2d"
           }
          ],
          "histogram2dcontour": [
           {
            "colorbar": {
             "outlinewidth": 0,
             "ticks": ""
            },
            "colorscale": [
             [
              0,
              "#0d0887"
             ],
             [
              0.1111111111111111,
              "#46039f"
             ],
             [
              0.2222222222222222,
              "#7201a8"
             ],
             [
              0.3333333333333333,
              "#9c179e"
             ],
             [
              0.4444444444444444,
              "#bd3786"
             ],
             [
              0.5555555555555556,
              "#d8576b"
             ],
             [
              0.6666666666666666,
              "#ed7953"
             ],
             [
              0.7777777777777778,
              "#fb9f3a"
             ],
             [
              0.8888888888888888,
              "#fdca26"
             ],
             [
              1,
              "#f0f921"
             ]
            ],
            "type": "histogram2dcontour"
           }
          ],
          "mesh3d": [
           {
            "colorbar": {
             "outlinewidth": 0,
             "ticks": ""
            },
            "type": "mesh3d"
           }
          ],
          "parcoords": [
           {
            "line": {
             "colorbar": {
              "outlinewidth": 0,
              "ticks": ""
             }
            },
            "type": "parcoords"
           }
          ],
          "pie": [
           {
            "automargin": true,
            "type": "pie"
           }
          ],
          "scatter": [
           {
            "fillpattern": {
             "fillmode": "overlay",
             "size": 10,
             "solidity": 0.2
            },
            "type": "scatter"
           }
          ],
          "scatter3d": [
           {
            "line": {
             "colorbar": {
              "outlinewidth": 0,
              "ticks": ""
             }
            },
            "marker": {
             "colorbar": {
              "outlinewidth": 0,
              "ticks": ""
             }
            },
            "type": "scatter3d"
           }
          ],
          "scattercarpet": [
           {
            "marker": {
             "colorbar": {
              "outlinewidth": 0,
              "ticks": ""
             }
            },
            "type": "scattercarpet"
           }
          ],
          "scattergeo": [
           {
            "marker": {
             "colorbar": {
              "outlinewidth": 0,
              "ticks": ""
             }
            },
            "type": "scattergeo"
           }
          ],
          "scattergl": [
           {
            "marker": {
             "colorbar": {
              "outlinewidth": 0,
              "ticks": ""
             }
            },
            "type": "scattergl"
           }
          ],
          "scattermapbox": [
           {
            "marker": {
             "colorbar": {
              "outlinewidth": 0,
              "ticks": ""
             }
            },
            "type": "scattermapbox"
           }
          ],
          "scatterpolar": [
           {
            "marker": {
             "colorbar": {
              "outlinewidth": 0,
              "ticks": ""
             }
            },
            "type": "scatterpolar"
           }
          ],
          "scatterpolargl": [
           {
            "marker": {
             "colorbar": {
              "outlinewidth": 0,
              "ticks": ""
             }
            },
            "type": "scatterpolargl"
           }
          ],
          "scatterternary": [
           {
            "marker": {
             "colorbar": {
              "outlinewidth": 0,
              "ticks": ""
             }
            },
            "type": "scatterternary"
           }
          ],
          "surface": [
           {
            "colorbar": {
             "outlinewidth": 0,
             "ticks": ""
            },
            "colorscale": [
             [
              0,
              "#0d0887"
             ],
             [
              0.1111111111111111,
              "#46039f"
             ],
             [
              0.2222222222222222,
              "#7201a8"
             ],
             [
              0.3333333333333333,
              "#9c179e"
             ],
             [
              0.4444444444444444,
              "#bd3786"
             ],
             [
              0.5555555555555556,
              "#d8576b"
             ],
             [
              0.6666666666666666,
              "#ed7953"
             ],
             [
              0.7777777777777778,
              "#fb9f3a"
             ],
             [
              0.8888888888888888,
              "#fdca26"
             ],
             [
              1,
              "#f0f921"
             ]
            ],
            "type": "surface"
           }
          ],
          "table": [
           {
            "cells": {
             "fill": {
              "color": "#EBF0F8"
             },
             "line": {
              "color": "white"
             }
            },
            "header": {
             "fill": {
              "color": "#C8D4E3"
             },
             "line": {
              "color": "white"
             }
            },
            "type": "table"
           }
          ]
         },
         "layout": {
          "annotationdefaults": {
           "arrowcolor": "#2a3f5f",
           "arrowhead": 0,
           "arrowwidth": 1
          },
          "autotypenumbers": "strict",
          "coloraxis": {
           "colorbar": {
            "outlinewidth": 0,
            "ticks": ""
           }
          },
          "colorscale": {
           "diverging": [
            [
             0,
             "#8e0152"
            ],
            [
             0.1,
             "#c51b7d"
            ],
            [
             0.2,
             "#de77ae"
            ],
            [
             0.3,
             "#f1b6da"
            ],
            [
             0.4,
             "#fde0ef"
            ],
            [
             0.5,
             "#f7f7f7"
            ],
            [
             0.6,
             "#e6f5d0"
            ],
            [
             0.7,
             "#b8e186"
            ],
            [
             0.8,
             "#7fbc41"
            ],
            [
             0.9,
             "#4d9221"
            ],
            [
             1,
             "#276419"
            ]
           ],
           "sequential": [
            [
             0,
             "#0d0887"
            ],
            [
             0.1111111111111111,
             "#46039f"
            ],
            [
             0.2222222222222222,
             "#7201a8"
            ],
            [
             0.3333333333333333,
             "#9c179e"
            ],
            [
             0.4444444444444444,
             "#bd3786"
            ],
            [
             0.5555555555555556,
             "#d8576b"
            ],
            [
             0.6666666666666666,
             "#ed7953"
            ],
            [
             0.7777777777777778,
             "#fb9f3a"
            ],
            [
             0.8888888888888888,
             "#fdca26"
            ],
            [
             1,
             "#f0f921"
            ]
           ],
           "sequentialminus": [
            [
             0,
             "#0d0887"
            ],
            [
             0.1111111111111111,
             "#46039f"
            ],
            [
             0.2222222222222222,
             "#7201a8"
            ],
            [
             0.3333333333333333,
             "#9c179e"
            ],
            [
             0.4444444444444444,
             "#bd3786"
            ],
            [
             0.5555555555555556,
             "#d8576b"
            ],
            [
             0.6666666666666666,
             "#ed7953"
            ],
            [
             0.7777777777777778,
             "#fb9f3a"
            ],
            [
             0.8888888888888888,
             "#fdca26"
            ],
            [
             1,
             "#f0f921"
            ]
           ]
          },
          "colorway": [
           "#636efa",
           "#EF553B",
           "#00cc96",
           "#ab63fa",
           "#FFA15A",
           "#19d3f3",
           "#FF6692",
           "#B6E880",
           "#FF97FF",
           "#FECB52"
          ],
          "font": {
           "color": "#2a3f5f"
          },
          "geo": {
           "bgcolor": "white",
           "lakecolor": "white",
           "landcolor": "#E5ECF6",
           "showlakes": true,
           "showland": true,
           "subunitcolor": "white"
          },
          "hoverlabel": {
           "align": "left"
          },
          "hovermode": "closest",
          "mapbox": {
           "style": "light"
          },
          "paper_bgcolor": "white",
          "plot_bgcolor": "#E5ECF6",
          "polar": {
           "angularaxis": {
            "gridcolor": "white",
            "linecolor": "white",
            "ticks": ""
           },
           "bgcolor": "#E5ECF6",
           "radialaxis": {
            "gridcolor": "white",
            "linecolor": "white",
            "ticks": ""
           }
          },
          "scene": {
           "xaxis": {
            "backgroundcolor": "#E5ECF6",
            "gridcolor": "white",
            "gridwidth": 2,
            "linecolor": "white",
            "showbackground": true,
            "ticks": "",
            "zerolinecolor": "white"
           },
           "yaxis": {
            "backgroundcolor": "#E5ECF6",
            "gridcolor": "white",
            "gridwidth": 2,
            "linecolor": "white",
            "showbackground": true,
            "ticks": "",
            "zerolinecolor": "white"
           },
           "zaxis": {
            "backgroundcolor": "#E5ECF6",
            "gridcolor": "white",
            "gridwidth": 2,
            "linecolor": "white",
            "showbackground": true,
            "ticks": "",
            "zerolinecolor": "white"
           }
          },
          "shapedefaults": {
           "line": {
            "color": "#2a3f5f"
           }
          },
          "ternary": {
           "aaxis": {
            "gridcolor": "white",
            "linecolor": "white",
            "ticks": ""
           },
           "baxis": {
            "gridcolor": "white",
            "linecolor": "white",
            "ticks": ""
           },
           "bgcolor": "#E5ECF6",
           "caxis": {
            "gridcolor": "white",
            "linecolor": "white",
            "ticks": ""
           }
          },
          "title": {
           "x": 0.05
          },
          "xaxis": {
           "automargin": true,
           "gridcolor": "white",
           "linecolor": "white",
           "ticks": "",
           "title": {
            "standoff": 15
           },
           "zerolinecolor": "white",
           "zerolinewidth": 2
          },
          "yaxis": {
           "automargin": true,
           "gridcolor": "white",
           "linecolor": "white",
           "ticks": "",
           "title": {
            "standoff": 15
           },
           "zerolinecolor": "white",
           "zerolinewidth": 2
          }
         }
        }
       }
      }
     },
     "metadata": {},
     "output_type": "display_data"
    }
   ],
   "source": [
    "gwfig = px.scatter_mapbox(gwu_df,\n",
    "                        lat=\"LATITUDE\",\n",
    "                        lon=\"LONGITUDE\",\n",
    "                        custom_data=['PROPERTYNAME','WATERUSE_ALLWATERSOURCES_KGAL'],\n",
    "                        zoom=15,  # Adjust zoom level as needed\n",
    "                        center={\"lat\": 38.899, \"lon\": -77.046}  # Center on Washington DC\n",
    "                        )\n",
    "gwfig.update_layout(mapbox_style=\"open-street-map\")  # Use open-street-map or other styles\n",
    "gwfig.update_traces(hovertemplate=\"Building: %{customdata[0]}<br>Water Usage: %{customdata[1]} KGAL\")\n",
    "gwfig.show()"
   ]
  },
  {
   "cell_type": "markdown",
   "metadata": {
    "id": "e-EURpdrxaAV"
   },
   "source": [
    "getting somewhere! map of gwu"
   ]
  },
  {
   "cell_type": "code",
   "execution_count": 10,
   "metadata": {
    "colab": {
     "base_uri": "https://localhost:8080/"
    },
    "id": "m26UZ6_JxiUy",
    "outputId": "eb7d05a2-895e-4749-d503-898570fab8b9"
   },
   "outputs": [
    {
     "name": "stdout",
     "output_type": "stream",
     "text": [
      "Requirement already satisfied: dash in /Users/fenyiwa/anaconda3/lib/python3.10/site-packages (2.18.2)\n",
      "Requirement already satisfied: retrying in /Users/fenyiwa/anaconda3/lib/python3.10/site-packages (from dash) (1.3.4)\n",
      "Requirement already satisfied: Werkzeug<3.1 in /Users/fenyiwa/anaconda3/lib/python3.10/site-packages (from dash) (2.2.2)\n",
      "Requirement already satisfied: nest-asyncio in /Users/fenyiwa/anaconda3/lib/python3.10/site-packages (from dash) (1.5.6)\n",
      "Requirement already satisfied: importlib-metadata in /Users/fenyiwa/anaconda3/lib/python3.10/site-packages (from dash) (4.11.3)\n",
      "Requirement already satisfied: dash-core-components==2.0.0 in /Users/fenyiwa/anaconda3/lib/python3.10/site-packages (from dash) (2.0.0)\n",
      "Requirement already satisfied: setuptools in /Users/fenyiwa/anaconda3/lib/python3.10/site-packages (from dash) (65.6.3)\n",
      "Requirement already satisfied: typing-extensions>=4.1.1 in /Users/fenyiwa/anaconda3/lib/python3.10/site-packages (from dash) (4.4.0)\n",
      "Requirement already satisfied: dash-table==5.0.0 in /Users/fenyiwa/anaconda3/lib/python3.10/site-packages (from dash) (5.0.0)\n",
      "Requirement already satisfied: dash-html-components==2.0.0 in /Users/fenyiwa/anaconda3/lib/python3.10/site-packages (from dash) (2.0.0)\n",
      "Requirement already satisfied: Flask<3.1,>=1.0.4 in /Users/fenyiwa/anaconda3/lib/python3.10/site-packages (from dash) (2.2.2)\n",
      "Requirement already satisfied: plotly>=5.0.0 in /Users/fenyiwa/anaconda3/lib/python3.10/site-packages (from dash) (5.24.1)\n",
      "Requirement already satisfied: requests in /Users/fenyiwa/anaconda3/lib/python3.10/site-packages (from dash) (2.28.1)\n",
      "Requirement already satisfied: Jinja2>=3.0 in /Users/fenyiwa/anaconda3/lib/python3.10/site-packages (from Flask<3.1,>=1.0.4->dash) (3.1.2)\n",
      "Requirement already satisfied: click>=8.0 in /Users/fenyiwa/anaconda3/lib/python3.10/site-packages (from Flask<3.1,>=1.0.4->dash) (8.0.4)\n",
      "Requirement already satisfied: itsdangerous>=2.0 in /Users/fenyiwa/anaconda3/lib/python3.10/site-packages (from Flask<3.1,>=1.0.4->dash) (2.0.1)\n",
      "Requirement already satisfied: tenacity>=6.2.0 in /Users/fenyiwa/anaconda3/lib/python3.10/site-packages (from plotly>=5.0.0->dash) (8.0.1)\n",
      "Requirement already satisfied: packaging in /Users/fenyiwa/anaconda3/lib/python3.10/site-packages (from plotly>=5.0.0->dash) (22.0)\n",
      "Requirement already satisfied: MarkupSafe>=2.1.1 in /Users/fenyiwa/anaconda3/lib/python3.10/site-packages (from Werkzeug<3.1->dash) (2.1.1)\n",
      "Requirement already satisfied: zipp>=0.5 in /Users/fenyiwa/anaconda3/lib/python3.10/site-packages (from importlib-metadata->dash) (3.11.0)\n",
      "Requirement already satisfied: charset-normalizer<3,>=2 in /Users/fenyiwa/anaconda3/lib/python3.10/site-packages (from requests->dash) (2.0.4)\n",
      "Requirement already satisfied: certifi>=2017.4.17 in /Users/fenyiwa/anaconda3/lib/python3.10/site-packages (from requests->dash) (2024.8.30)\n",
      "Requirement already satisfied: idna<4,>=2.5 in /Users/fenyiwa/anaconda3/lib/python3.10/site-packages (from requests->dash) (3.4)\n",
      "Requirement already satisfied: urllib3<1.27,>=1.21.1 in /Users/fenyiwa/anaconda3/lib/python3.10/site-packages (from requests->dash) (1.26.14)\n",
      "Requirement already satisfied: six>=1.7.0 in /Users/fenyiwa/anaconda3/lib/python3.10/site-packages (from retrying->dash) (1.16.0)\n",
      "Note: you may need to restart the kernel to use updated packages.\n"
     ]
    }
   ],
   "source": [
    "pip install dash"
   ]
  },
  {
   "cell_type": "code",
   "execution_count": 15,
   "metadata": {
    "colab": {
     "base_uri": "https://localhost:8080/",
     "height": 671
    },
    "id": "crHZyywCyWxN",
    "outputId": "d87da0af-9a0e-446f-d43a-274c474fd1af"
   },
   "outputs": [
    {
     "data": {
      "text/html": [
       "\n",
       "        <iframe\n",
       "            width=\"100%\"\n",
       "            height=\"650\"\n",
       "            src=\"http://127.0.0.1:8051/\"\n",
       "            frameborder=\"0\"\n",
       "            allowfullscreen\n",
       "            \n",
       "        ></iframe>\n",
       "        "
      ],
      "text/plain": [
       "<IPython.lib.display.IFrame at 0x133118400>"
      ]
     },
     "metadata": {},
     "output_type": "display_data"
    }
   ],
   "source": [
    "from dash import Dash, dcc, html, Input, Output\n",
    "\n",
    "app = Dash(__name__)\n",
    "\n",
    "app.layout = html.Div([\n",
    "    dcc.Graph(id='map', figure=gwfig)  # Display the map\n",
    "])\n",
    "\n",
    "if __name__ == '__main__':\n",
    "    app.run_server(mode='external', port=8051) # or 'external' if you prefer a separate tab"
   ]
  },
  {
   "cell_type": "markdown",
   "metadata": {
    "id": "MSHOVNrbOG9m"
   },
   "source": [
    "getting somewhere.."
   ]
  },
  {
   "cell_type": "code",
   "execution_count": 25,
   "metadata": {
    "colab": {
     "base_uri": "https://localhost:8080/",
     "height": 671
    },
    "id": "mT-v6knKPapR",
    "outputId": "e50e7023-f490-490d-f5ae-f0912bb55ca1"
   },
   "outputs": [
    {
     "data": {
      "text/html": [
       "\n",
       "        <iframe\n",
       "            width=\"100%\"\n",
       "            height=\"650\"\n",
       "            src=\"http://127.0.0.1:8051/\"\n",
       "            frameborder=\"0\"\n",
       "            allowfullscreen\n",
       "            \n",
       "        ></iframe>\n",
       "        "
      ],
      "text/plain": [
       "<IPython.lib.display.IFrame at 0x127dd3c10>"
      ]
     },
     "metadata": {},
     "output_type": "display_data"
    }
   ],
   "source": [
    "from dash import Dash, dcc, html, Input, Output\n",
    "import plotly.express as px\n",
    "\n",
    "\n",
    "app.layout = html.Div([\n",
    "    dcc.Graph(id='map', figure=gwfig),  # Add id for the map\n",
    "    html.Div(id='dashboard')  # Placeholder for the dashboard\n",
    "])\n",
    "\n",
    "@app.callback(\n",
    "    Output('dashboard', 'children'),  # Output for the dashboard\n",
    "    Input('map', 'clickData')  # Input from map clicks\n",
    ")\n",
    "def display_building_info(clickData):\n",
    "    if clickData:\n",
    "        building_name = clickData['points'][0]['customdata'][0]\n",
    "        water_usage = clickData['points'][0]['customdata'][1]\n",
    "\n",
    "        # ... (Logic to generate dashboard content)\n",
    "        building_data = df[df['PROPERTYNAME'] == building_name]\n",
    "\n",
    "        # Create graphs (e.g., using Plotly Express)\n",
    "        energy_graph = px.line(building_data, x='REPORTINGYEAR', y='TOTALGHGEMISSIONS_METRICTONSCO2E')\n",
    "        water_graph = px.bar(building_data, x='REPORTINGYEAR', y='WATERUSE_ALLWATERSOURCES_KGAL')\n",
    "        emissions_graph = px.line(building_data, x='REPORTINGYEAR', y='ENERGYSTARSCORE')  # Assume ENERGYSTARSCORE as efficiency rating\n",
    "\n",
    "        # Create dropdown for year selection\n",
    "        year_dropdown = dcc.Dropdown(\n",
    "            id='year-dropdown',\n",
    "            options=[{'label': year, 'value': year} for year in building_data['REPORTINGYEAR'].unique()],\n",
    "            value=building_data['REPORTINGYEAR'].max()  # Default to most recent year\n",
    "        )\n",
    "\n",
    "        # Structure dashboard content\n",
    "        dashboard_content = html.Div([\n",
    "            html.H1(building_name),\n",
    "            year_dropdown,\n",
    "            dcc.Graph(id='energy-graph', figure=energy_graph),\n",
    "            dcc.Graph(id='water-graph', figure=water_graph),\n",
    "            dcc.Graph(id='emissions-graph', figure=emissions_graph)\n",
    "        ])\n",
    "        return dashboard_content  # Return the dashboard content\n",
    "    else:\n",
    "        return \"Click on a building to view its information.\"\n",
    "\n",
    "if __name__ == '__main__':\n",
    "    app.run_server(mode='inline', port=8051)  # or 'external' if you prefer a separate tab"
   ]
  },
  {
   "cell_type": "markdown",
   "metadata": {},
   "source": [
    "not interactive yet but getting there"
   ]
  },
  {
   "cell_type": "code",
   "execution_count": 40,
   "metadata": {},
   "outputs": [
    {
     "data": {
      "text/html": [
       "\n",
       "        <iframe\n",
       "            width=\"100%\"\n",
       "            height=\"650\"\n",
       "            src=\"http://127.0.0.1:8052/\"\n",
       "            frameborder=\"0\"\n",
       "            allowfullscreen\n",
       "            \n",
       "        ></iframe>\n",
       "        "
      ],
      "text/plain": [
       "<IPython.lib.display.IFrame at 0x133ab0910>"
      ]
     },
     "metadata": {},
     "output_type": "display_data"
    }
   ],
   "source": [
    "gwu_df = df[['PROPERTYNAME', 'LATITUDE', 'LONGITUDE', 'REPORTINGYEAR', \n",
    "             'WATERUSE_ALLWATERSOURCES_KGAL', 'TOTGHGEMISSIONS_METRICTONSCO2E', 'ELECTRICITYUSE_GRID_KWH']]\n",
    "\n",
    "app = Dash(__name__)\n",
    "\n",
    "app.layout = html.Div([\n",
    "    html.H1(\"University Building Data Map\"),\n",
    "    dcc.Graph(id='map', config={'scrollZoom': False}),\n",
    "    html.Div(id='building-data')\n",
    "])\n",
    "\n",
    "@app.callback(\n",
    "    Output('map', 'figure'),\n",
    "    Input('map', 'clickData')\n",
    ")\n",
    "def update_map(clickData):\n",
    "    fig = px.scatter_mapbox(\n",
    "        gwu_df,\n",
    "        lat='LATITUDE',\n",
    "        lon='LONGITUDE',\n",
    "        hover_name='PROPERTYNAME',\n",
    "        hover_data={'LATITUDE': False, 'LONGITUDE': False},\n",
    "        zoom=11\n",
    "    )\n",
    "    fig.update_layout(mapbox_style=\"carto-positron\")\n",
    "    mapbox_center = {\"lat\": 38.9072, \"lon\": -77.0369}\n",
    "    return fig\n",
    "\n",
    "@app.callback(\n",
    "    Output('building-data', 'children'),\n",
    "    Input('map', 'clickData')\n",
    ")\n",
    "def display_building_data(clickData):\n",
    "    if clickData is None:\n",
    "        return \"Click on a building to see its data.\"\n",
    "    \n",
    "    building_name = clickData['points'][0]['hovertext']\n",
    "    building_info = gwu_df[gwu_df['PROPERTYNAME'] == building_name]\n",
    "\n",
    "    water_fig = px.bar(building_info, x='REPORTINGYEAR', y='WATERUSE_ALLWATERSOURCES_KGAL', title='Water Usage (KGAL)')\n",
    "    emissions_fig = px.bar(building_info, x='REPORTINGYEAR', y='TOTGHGEMISSIONS_METRICTONSCO2E', title='Emissions (Metric Tons CO2e)')\n",
    "    electricity_fig = px.bar(building_info, x='REPORTINGYEAR', y='ELECTRICITYUSE_GRID_KWH', title='Electricity Usage (KWH)')\n",
    "\n",
    "    emissions_fig.update_traces(marker_color='green')\n",
    "    electricity_fig.update_traces(marker_color='yellow')\n",
    "\n",
    "\n",
    "    return html.Div([\n",
    "        html.H3(building_name),\n",
    "        dcc.Graph(figure=water_fig),\n",
    "        dcc.Graph(figure=emissions_fig),\n",
    "        dcc.Graph(figure=electricity_fig)\n",
    "    ])\n",
    "\n",
    "if __name__ == '__main__':\n",
    "    app.run_server(debug=True, port=8052) "
   ]
  },
  {
   "cell_type": "markdown",
   "metadata": {},
   "source": [
    "map shows all buildings and theyre clickable, woohoo! how to get those graphs looking better..."
   ]
  }
 ],
 "metadata": {
  "colab": {
   "provenance": []
  },
  "kernelspec": {
   "display_name": "base",
   "language": "python",
   "name": "python3"
  },
  "language_info": {
   "codemirror_mode": {
    "name": "ipython",
    "version": 3
   },
   "file_extension": ".py",
   "mimetype": "text/x-python",
   "name": "python",
   "nbconvert_exporter": "python",
   "pygments_lexer": "ipython3",
   "version": "3.10.9"
  }
 },
 "nbformat": 4,
 "nbformat_minor": 1
}
